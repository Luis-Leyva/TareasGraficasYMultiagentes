{
 "metadata": {
  "language_info": {
   "codemirror_mode": {
    "name": "ipython",
    "version": 3
   },
   "file_extension": ".py",
   "mimetype": "text/x-python",
   "name": "python",
   "nbconvert_exporter": "python",
   "pygments_lexer": "ipython3",
   "version": 3
  },
  "orig_nbformat": 4
 },
 "nbformat": 4,
 "nbformat_minor": 2,
 "cells": [
  {
   "source": [
    "# Instrucciones\n",
    "* Realiza la siguiente simulación:\n",
    "    * Inicializa las posiciones iniciales de las K cajas. Todas las cajas están a nivel de piso, es decir, no hay pilas de cajas.\n",
    "    * Todos los agentes empiezan en posición aleatorias vacías.\n",
    "    * Se ejecuta el tiempo máximo establecido.\n",
    "* Deberás recopilar la siguiente información durante la ejecución:\n",
    "    * Tiempo necesario hasta que todas las cajas están en pilas de máximo 5 cajas.\n",
    "    * Número de movimientos realizados por todos los robots.\n",
    "    * Analiza si existe una estrategia que podría disminuir el tiempo dedicado, así como la cantidad de movimientos realizados. ¿Cómo sería? Descríbela."
   ],
   "cell_type": "markdown",
   "metadata": {}
  },
  {
   "source": [
    "## Imports\n",
    "Se utilizaran los siguientes paquetes de python\n",
    "- `python`: asegúrense de usar la versión 3+.\n",
    "- `mesa`: el framework de Python para el modelado de agentes.\n",
    "- `numpy`: es una biblioteca de Python para el manejo de matrices, arreglos, manipulación matemática, lógica y mucho más.\n",
    "- `matplotlib`: es una biblioteca para crear visualizaciones estáticas, animadas e interactivas en Python.\n",
    "\n",
    "Para instalar mesa hay que hay que utilizar el siguiente comando:"
   ],
   "cell_type": "markdown",
   "metadata": {}
  },
  {
   "cell_type": "code",
   "execution_count": null,
   "metadata": {},
   "outputs": [],
   "source": [
    "!pip install mesa"
   ]
  },
  {
   "source": [
    "Ahora importamos las librerias y funciones a utilizar."
   ],
   "cell_type": "markdown",
   "metadata": {}
  },
  {
   "source": [
    "# Importamos las clases para manejar el modelo y agente.\n",
    "from mesa import Agent, Model \n",
    "\n",
    "# Utilizamos Multigrid para poder manejar varios agentes.\n",
    "from mesa.space import MultiGrid\n",
    "\n",
    "# Activamos a todos los agentes a la vez.\n",
    "from mesa.time import RandomActivation\n",
    "\n",
    "# Obtenemos la información completa del grid para poder graficarlo.\n",
    "from mesa.datacollection import DataCollector\n",
    "\n",
    "# Esta libreria se utilizara en conjunto con data collector para graficar el grid.\n",
    "%matplotlib inline\n",
    "import matplotlib\n",
    "import matplotlib.pyplot as plt\n",
    "import matplotlib.animation as animation\n",
    "plt.rcParams[\"animation.html\"] = \"jshtml\"\n",
    "matplotlib.rcParams['animation.embed_limit'] = 2**128\n",
    "\n",
    "# Librerias para manejar operaciones numericas.\n",
    "import numpy as np\n",
    "import pandas as pd\n",
    "import random\n",
    "# librerias para obtener el tiempo de ejecucion.\n",
    "import time\n",
    "import datetime"
   ],
   "cell_type": "code",
   "metadata": {},
   "execution_count": null,
   "outputs": []
  },
  {
   "source": [
    "## Crea el modelo"
   ],
   "cell_type": "markdown",
   "metadata": {}
  },
  {
   "cell_type": "code",
   "execution_count": null,
   "metadata": {},
   "outputs": [],
   "source": []
  }
 ]
}