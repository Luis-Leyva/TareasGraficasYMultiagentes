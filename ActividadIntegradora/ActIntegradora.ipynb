{
 "metadata": {
  "language_info": {
   "codemirror_mode": {
    "name": "ipython",
    "version": 3
   },
   "file_extension": ".py",
   "mimetype": "text/x-python",
   "name": "python",
   "nbconvert_exporter": "python",
   "pygments_lexer": "ipython3",
   "version": "3.7.4"
  },
  "orig_nbformat": 4,
  "kernelspec": {
   "name": "python3",
   "display_name": "Python 3.7.4 32-bit"
  },
  "interpreter": {
   "hash": "cc2848dddffbbdd40c4d693d1733185ba34491557e5a616eea598abda57a753d"
  }
 },
 "nbformat": 4,
 "nbformat_minor": 2,
 "cells": [
  {
   "source": [
    "# Instrucciones\n",
    "* Realiza la siguiente simulación:\n",
    "    * Inicializa las posiciones iniciales de las K cajas. Todas las cajas están a nivel de piso, es decir, no hay pilas de cajas.\n",
    "    * Todos los agentes empiezan en posición aleatorias vacías.\n",
    "    * Se ejecuta el tiempo máximo establecido.\n",
    "* Deberás recopilar la siguiente información durante la ejecución:\n",
    "    * Tiempo necesario hasta que todas las cajas están en pilas de máximo 5 cajas.\n",
    "    * Número de movimientos realizados por todos los robots.\n",
    "    * Analiza si existe una estrategia que podría disminuir el tiempo dedicado, así como la cantidad de movimientos realizados. ¿Cómo sería? Descríbela."
   ],
   "cell_type": "markdown",
   "metadata": {}
  },
  {
   "source": [
    "## Imports\n",
    "Se utilizaran los siguientes paquetes de python\n",
    "- `python`: asegúrense de usar la versión 3+.\n",
    "- `mesa`: el framework de Python para el modelado de agentes.\n",
    "- `numpy`: es una biblioteca de Python para el manejo de matrices, arreglos, manipulación matemática, lógica y mucho más.\n",
    "- `matplotlib`: es una biblioteca para crear visualizaciones estáticas, animadas e interactivas en Python.\n",
    "\n",
    "Para instalar mesa hay que hay que utilizar el siguiente comando:"
   ],
   "cell_type": "markdown",
   "metadata": {}
  },
  {
   "cell_type": "code",
   "execution_count": 24,
   "metadata": {},
   "outputs": [
    {
     "output_type": "stream",
     "name": "stdout",
     "text": [
      "Requirement already satisfied: mesa in c:\\users\\lomar\\appdata\\local\\programs\\python\\python37-32\\lib\\site-packages (0.8.9)\nRequirement already satisfied: numpy in c:\\users\\lomar\\appdata\\local\\programs\\python\\python37-32\\lib\\site-packages (from mesa) (1.21.2)\nRequirement already satisfied: cookiecutter in c:\\users\\lomar\\appdata\\local\\programs\\python\\python37-32\\lib\\site-packages (from mesa) (1.7.3)\nRequirement already satisfied: click in c:\\users\\lomar\\appdata\\local\\programs\\python\\python37-32\\lib\\site-packages (from mesa) (8.0.1)\nRequirement already satisfied: tqdm in c:\\users\\lomar\\appdata\\local\\programs\\python\\python37-32\\lib\\site-packages (from mesa) (4.62.2)\nRequirement already satisfied: networkx in c:\\users\\lomar\\appdata\\local\\programs\\python\\python37-32\\lib\\site-packages (from mesa) (2.6.2)\nRequirement already satisfied: tornado in c:\\users\\lomar\\appdata\\local\\programs\\python\\python37-32\\lib\\site-packages (from mesa) (6.1)\nRequirement already satisfied: pandas in c:\\users\\lomar\\appdata\\local\\programs\\python\\python37-32\\lib\\site-packages (from mesa) (1.3.2)\nRequirement already satisfied: colorama in c:\\users\\lomar\\appdata\\roaming\\python\\python37\\site-packages (from click->mesa) (0.4.1)\nRequirement already satisfied: importlib-metadata in c:\\users\\lomar\\appdata\\local\\programs\\python\\python37-32\\lib\\site-packages (from click->mesa) (4.8.1)\nRequirement already satisfied: six>=1.10 in c:\\users\\lomar\\appdata\\roaming\\python\\python37\\site-packages (from cookiecutter->mesa) (1.12.0)\nRequirement already satisfied: jinja2-time>=0.2.0 in c:\\users\\lomar\\appdata\\local\\programs\\python\\python37-32\\lib\\site-packages (from cookiecutter->mesa) (0.2.0)\nRequirement already satisfied: poyo>=0.5.0 in c:\\users\\lomar\\appdata\\local\\programs\\python\\python37-32\\lib\\site-packages (from cookiecutter->mesa) (0.5.0)\nRequirement already satisfied: Jinja2<4.0.0,>=2.7 in c:\\users\\lomar\\appdata\\local\\programs\\python\\python37-32\\lib\\site-packages (from cookiecutter->mesa) (3.0.1)\nRequirement already satisfied: requests>=2.23.0 in c:\\users\\lomar\\appdata\\local\\programs\\python\\python37-32\\lib\\site-packages (from cookiecutter->mesa) (2.26.0)\nRequirement already satisfied: binaryornot>=0.4.4 in c:\\users\\lomar\\appdata\\local\\programs\\python\\python37-32\\lib\\site-packages (from cookiecutter->mesa) (0.4.4)\nRequirement already satisfied: python-slugify>=4.0.0 in c:\\users\\lomar\\appdata\\local\\programs\\python\\python37-32\\lib\\site-packages (from cookiecutter->mesa) (5.0.2)\nRequirement already satisfied: chardet>=3.0.2 in c:\\users\\lomar\\appdata\\local\\programs\\python\\python37-32\\lib\\site-packages (from binaryornot>=0.4.4->cookiecutter->mesa) (4.0.0)\nRequirement already satisfied: MarkupSafe>=2.0 in c:\\users\\lomar\\appdata\\local\\programs\\python\\python37-32\\lib\\site-packages (from Jinja2<4.0.0,>=2.7->cookiecutter->mesa) (2.0.1)\nRequirement already satisfied: arrow in c:\\users\\lomar\\appdata\\local\\programs\\python\\python37-32\\lib\\site-packages (from jinja2-time>=0.2.0->cookiecutter->mesa) (1.1.1)\nRequirement already satisfied: text-unidecode>=1.3 in c:\\users\\lomar\\appdata\\local\\programs\\python\\python37-32\\lib\\site-packages (from python-slugify>=4.0.0->cookiecutter->mesa) (1.3)\nRequirement already satisfied: idna<4,>=2.5 in c:\\users\\lomar\\appdata\\local\\programs\\python\\python37-32\\lib\\site-packages (from requests>=2.23.0->cookiecutter->mesa) (3.2)\nRequirement already satisfied: certifi>=2017.4.17 in c:\\users\\lomar\\appdata\\local\\programs\\python\\python37-32\\lib\\site-packages (from requests>=2.23.0->cookiecutter->mesa) (2021.5.30)\nRequirement already satisfied: urllib3<1.27,>=1.21.1 in c:\\users\\lomar\\appdata\\local\\programs\\python\\python37-32\\lib\\site-packages (from requests>=2.23.0->cookiecutter->mesa) (1.26.6)\nRequirement already satisfied: charset-normalizer~=2.0.0 in c:\\users\\lomar\\appdata\\local\\programs\\python\\python37-32\\lib\\site-packages (from requests>=2.23.0->cookiecutter->mesa) (2.0.4)\nRequirement already satisfied: typing-extensions in c:\\users\\lomar\\appdata\\local\\programs\\python\\python37-32\\lib\\site-packages (from arrow->jinja2-time>=0.2.0->cookiecutter->mesa) (3.10.0.1)\nRequirement already satisfied: python-dateutil>=2.7.0 in c:\\users\\lomar\\appdata\\local\\programs\\python\\python37-32\\lib\\site-packages (from arrow->jinja2-time>=0.2.0->cookiecutter->mesa) (2.8.2)\nRequirement already satisfied: zipp>=0.5 in c:\\users\\lomar\\appdata\\local\\programs\\python\\python37-32\\lib\\site-packages (from importlib-metadata->click->mesa) (3.5.0)\nRequirement already satisfied: pytz>=2017.3 in c:\\users\\lomar\\appdata\\local\\programs\\python\\python37-32\\lib\\site-packages (from pandas->mesa) (2021.1)\n"
     ]
    }
   ],
   "source": [
    "!pip install mesa"
   ]
  },
  {
   "source": [
    "Ahora importamos las librerias y funciones a utilizar."
   ],
   "cell_type": "markdown",
   "metadata": {}
  },
  {
   "source": [
    "# Importamos las clases para manejar el modelo y agente.\n",
    "from mesa import Agent, Model \n",
    "\n",
    "# Utilizamos Multigrid para poder manejar varios agentes.\n",
    "from mesa.space import MultiGrid\n",
    "\n",
    "# Activamos a todos los agentes a la vez.\n",
    "from mesa.time import RandomActivation\n",
    "\n",
    "# Obtenemos la información completa del grid para poder graficarlo.\n",
    "from mesa.datacollection import DataCollector\n",
    "\n",
    "# Esta libreria se utilizara en conjunto con data collector para graficar el grid.\n",
    "%matplotlib inline\n",
    "import matplotlib\n",
    "import matplotlib.pyplot as plt\n",
    "import matplotlib.animation as animation\n",
    "plt.rcParams[\"animation.html\"] = \"jshtml\"\n",
    "matplotlib.rcParams['animation.embed_limit'] = 2**128\n",
    "\n",
    "# Librerias para manejar operaciones numericas.\n",
    "import numpy as np\n",
    "import pandas as pd\n",
    "import random\n",
    "# librerias para obtener el tiempo de ejecucion.\n",
    "import time\n",
    "import datetime"
   ],
   "cell_type": "code",
   "metadata": {},
   "execution_count": 25,
   "outputs": []
  },
  {
   "source": [
    "## Crea el modelo"
   ],
   "cell_type": "markdown",
   "metadata": {}
  },
  {
   "cell_type": "code",
   "execution_count": 26,
   "metadata": {},
   "outputs": [],
   "source": [
    "def obtener_habitacion(model):\n",
    "    habitacion = np.zeros((model.grid.width, model.grid.height))\n",
    "    for celda in model.grid.coord_iter():\n",
    "        contenido_celda, x, y = celda\n",
    "        for contenido in contenido_celda:\n",
    "            if isinstance(contenido, Robot):\n",
    "                habitacion[x][y] = 1\n",
    "            elif isinstance(contenido, Caja):    \n",
    "                habitacion[x][y] = 2\n",
    "            else:\n",
    "                habitacion[x][y] = 3\n",
    "    return habitacion\n",
    "\n",
    "class Robot(Agent):\n",
    "    '''\n",
    "    Agente robot\n",
    "    '''\n",
    "    def __init__(self,unique_id, model):\n",
    "        super().__init__(unique_id, model)\n",
    "\n",
    "    '''\n",
    "    Movimiento\n",
    "    '''\n",
    "    # def move(self):\n",
    "        \n",
    "    # def interaccion(self):\n",
    "\n",
    "    \n",
    "class Caja(Agent):\n",
    "    '''\n",
    "    Agente caja\n",
    "    '''\n",
    "\n",
    "    def __init__(self,unique_id,model):\n",
    "        super().__init__(unique_id,model)\n",
    "\n",
    "class Stack(Agent):\n",
    "    '''\n",
    "    Almacenamiento de cajas\n",
    "    '''\n",
    "    def __init__(self,unique_id, model):\n",
    "        super().__init__(unique_id,model)\n",
    "        cantidad = 0\n",
    "        cantidadMax = 5\n",
    "\n",
    "class cajasModel(Model):\n",
    "    def __init__(self, N,M):\n",
    "        self.cajas = N\n",
    "        self.stacks = M\n",
    "        self.grid = MultiGrid(7, 7, False)\n",
    "        self.schedule = RandomActivation(self)\n",
    "\n",
    "        for i in range(5):\n",
    "            r = Robot(i,self)\n",
    "            self.schedule.add(r)\n",
    "            x = self.random.randrange(self.grid.width)\n",
    "            y = self.random.randrange(self.grid.height)\n",
    "            self.grid.place_agent(r, (x, y))\n",
    "        \n",
    "        for i in range(N):\n",
    "            r = Caja(i+5,self)\n",
    "            self.schedule.add(r)\n",
    "            x = self.random.randrange(self.grid.width)\n",
    "            y = self.random.randrange(self.grid.height)\n",
    "            self.grid.place_agent(r, (x, y))\n",
    "\n",
    "        for i in range(M):\n",
    "            r = Stack(i+5+N,self)\n",
    "            self.schedule.add(r)\n",
    "            x = self.random.randrange(self.grid.width)\n",
    "            y = self.random.randrange(self.grid.height)\n",
    "            self.grid.place_agent(r, (x, y))\n",
    "\n",
    "        # Aquí definimos con colector para obtener el grid completo.\n",
    "        self.datacollector = DataCollector(model_reporters={\"Grid\": obtener_habitacion})\n",
    "\n",
    "def step(self):\n",
    "    self.datacollector.collect(self)\n",
    "    self.schedule.step()\n",
    "\n"
   ]
  },
  {
   "source": [
    "## Tiempo de ejecucion"
   ],
   "cell_type": "markdown",
   "metadata": {}
  },
  {
   "cell_type": "code",
   "execution_count": 27,
   "metadata": {},
   "outputs": [],
   "source": [
    "# Numero de cajas\n",
    "NUM_CAJAS = 10\n",
    "\n",
    "# Numero de stacks\n",
    "NUM_STACKS = 2\n",
    "\n",
    "# Definimos el tiempo maximo del modelo\n",
    "MAX_TIME = 0.01\n",
    "\n",
    "start_time = time.time()\n",
    "step_num = 0\n",
    "modelo = cajasModel(NUM_CAJAS, NUM_STACKS)\n",
    "while time.time()-start_time <= MAX_TIME:\n",
    "    modelo.step()\n",
    "    step_num += 1\n",
    "final_time = time.time()"
   ]
  },
  {
   "source": [
    "## Graficar"
   ],
   "cell_type": "markdown",
   "metadata": {}
  },
  {
   "cell_type": "code",
   "execution_count": 28,
   "metadata": {},
   "outputs": [
    {
     "output_type": "error",
     "ename": "IndexError",
     "evalue": "single positional indexer is out-of-bounds",
     "traceback": [
      "\u001b[1;31m---------------------------------------------------------------------------\u001b[0m",
      "\u001b[1;31mIndexError\u001b[0m                                Traceback (most recent call last)",
      "\u001b[1;32m~\\AppData\\Local\\Temp/ipykernel_9848/177428006.py\u001b[0m in \u001b[0;36m<module>\u001b[1;34m\u001b[0m\n\u001b[0;32m      6\u001b[0m \u001b[0maxs\u001b[0m\u001b[1;33m.\u001b[0m\u001b[0mset_xticks\u001b[0m\u001b[1;33m(\u001b[0m\u001b[1;33m[\u001b[0m\u001b[1;33m]\u001b[0m\u001b[1;33m)\u001b[0m\u001b[1;33m\u001b[0m\u001b[1;33m\u001b[0m\u001b[0m\n\u001b[0;32m      7\u001b[0m \u001b[0maxs\u001b[0m\u001b[1;33m.\u001b[0m\u001b[0mset_yticks\u001b[0m\u001b[1;33m(\u001b[0m\u001b[1;33m[\u001b[0m\u001b[1;33m]\u001b[0m\u001b[1;33m)\u001b[0m\u001b[1;33m\u001b[0m\u001b[1;33m\u001b[0m\u001b[0m\n\u001b[1;32m----> 8\u001b[1;33m \u001b[0mpatch\u001b[0m \u001b[1;33m=\u001b[0m \u001b[0mplt\u001b[0m\u001b[1;33m.\u001b[0m\u001b[0mimshow\u001b[0m\u001b[1;33m(\u001b[0m\u001b[0mall_grid\u001b[0m\u001b[1;33m.\u001b[0m\u001b[0miloc\u001b[0m\u001b[1;33m[\u001b[0m\u001b[1;36m0\u001b[0m\u001b[1;33m]\u001b[0m\u001b[1;33m[\u001b[0m\u001b[1;36m0\u001b[0m\u001b[1;33m]\u001b[0m\u001b[1;33m,\u001b[0m \u001b[0mcmap\u001b[0m\u001b[1;33m=\u001b[0m\u001b[0mplt\u001b[0m\u001b[1;33m.\u001b[0m\u001b[0mcm\u001b[0m\u001b[1;33m.\u001b[0m\u001b[0mbinary\u001b[0m\u001b[1;33m)\u001b[0m\u001b[1;33m\u001b[0m\u001b[1;33m\u001b[0m\u001b[0m\n\u001b[0m\u001b[0;32m      9\u001b[0m \u001b[1;33m\u001b[0m\u001b[0m\n\u001b[0;32m     10\u001b[0m \u001b[1;32mdef\u001b[0m \u001b[0manimate\u001b[0m\u001b[1;33m(\u001b[0m\u001b[0mi\u001b[0m\u001b[1;33m)\u001b[0m\u001b[1;33m:\u001b[0m\u001b[1;33m\u001b[0m\u001b[1;33m\u001b[0m\u001b[0m\n",
      "\u001b[1;32m~\\AppData\\Local\\Programs\\Python\\Python37-32\\lib\\site-packages\\pandas\\core\\indexing.py\u001b[0m in \u001b[0;36m__getitem__\u001b[1;34m(self, key)\u001b[0m\n\u001b[0;32m    929\u001b[0m \u001b[1;33m\u001b[0m\u001b[0m\n\u001b[0;32m    930\u001b[0m             \u001b[0mmaybe_callable\u001b[0m \u001b[1;33m=\u001b[0m \u001b[0mcom\u001b[0m\u001b[1;33m.\u001b[0m\u001b[0mapply_if_callable\u001b[0m\u001b[1;33m(\u001b[0m\u001b[0mkey\u001b[0m\u001b[1;33m,\u001b[0m \u001b[0mself\u001b[0m\u001b[1;33m.\u001b[0m\u001b[0mobj\u001b[0m\u001b[1;33m)\u001b[0m\u001b[1;33m\u001b[0m\u001b[1;33m\u001b[0m\u001b[0m\n\u001b[1;32m--> 931\u001b[1;33m             \u001b[1;32mreturn\u001b[0m \u001b[0mself\u001b[0m\u001b[1;33m.\u001b[0m\u001b[0m_getitem_axis\u001b[0m\u001b[1;33m(\u001b[0m\u001b[0mmaybe_callable\u001b[0m\u001b[1;33m,\u001b[0m \u001b[0maxis\u001b[0m\u001b[1;33m=\u001b[0m\u001b[0maxis\u001b[0m\u001b[1;33m)\u001b[0m\u001b[1;33m\u001b[0m\u001b[1;33m\u001b[0m\u001b[0m\n\u001b[0m\u001b[0;32m    932\u001b[0m \u001b[1;33m\u001b[0m\u001b[0m\n\u001b[0;32m    933\u001b[0m     \u001b[1;32mdef\u001b[0m \u001b[0m_is_scalar_access\u001b[0m\u001b[1;33m(\u001b[0m\u001b[0mself\u001b[0m\u001b[1;33m,\u001b[0m \u001b[0mkey\u001b[0m\u001b[1;33m:\u001b[0m \u001b[0mtuple\u001b[0m\u001b[1;33m)\u001b[0m\u001b[1;33m:\u001b[0m\u001b[1;33m\u001b[0m\u001b[1;33m\u001b[0m\u001b[0m\n",
      "\u001b[1;32m~\\AppData\\Local\\Programs\\Python\\Python37-32\\lib\\site-packages\\pandas\\core\\indexing.py\u001b[0m in \u001b[0;36m_getitem_axis\u001b[1;34m(self, key, axis)\u001b[0m\n\u001b[0;32m   1564\u001b[0m \u001b[1;33m\u001b[0m\u001b[0m\n\u001b[0;32m   1565\u001b[0m             \u001b[1;31m# validate the location\u001b[0m\u001b[1;33m\u001b[0m\u001b[1;33m\u001b[0m\u001b[1;33m\u001b[0m\u001b[0m\n\u001b[1;32m-> 1566\u001b[1;33m             \u001b[0mself\u001b[0m\u001b[1;33m.\u001b[0m\u001b[0m_validate_integer\u001b[0m\u001b[1;33m(\u001b[0m\u001b[0mkey\u001b[0m\u001b[1;33m,\u001b[0m \u001b[0maxis\u001b[0m\u001b[1;33m)\u001b[0m\u001b[1;33m\u001b[0m\u001b[1;33m\u001b[0m\u001b[0m\n\u001b[0m\u001b[0;32m   1567\u001b[0m \u001b[1;33m\u001b[0m\u001b[0m\n\u001b[0;32m   1568\u001b[0m             \u001b[1;32mreturn\u001b[0m \u001b[0mself\u001b[0m\u001b[1;33m.\u001b[0m\u001b[0mobj\u001b[0m\u001b[1;33m.\u001b[0m\u001b[0m_ixs\u001b[0m\u001b[1;33m(\u001b[0m\u001b[0mkey\u001b[0m\u001b[1;33m,\u001b[0m \u001b[0maxis\u001b[0m\u001b[1;33m=\u001b[0m\u001b[0maxis\u001b[0m\u001b[1;33m)\u001b[0m\u001b[1;33m\u001b[0m\u001b[1;33m\u001b[0m\u001b[0m\n",
      "\u001b[1;32m~\\AppData\\Local\\Programs\\Python\\Python37-32\\lib\\site-packages\\pandas\\core\\indexing.py\u001b[0m in \u001b[0;36m_validate_integer\u001b[1;34m(self, key, axis)\u001b[0m\n\u001b[0;32m   1498\u001b[0m         \u001b[0mlen_axis\u001b[0m \u001b[1;33m=\u001b[0m \u001b[0mlen\u001b[0m\u001b[1;33m(\u001b[0m\u001b[0mself\u001b[0m\u001b[1;33m.\u001b[0m\u001b[0mobj\u001b[0m\u001b[1;33m.\u001b[0m\u001b[0m_get_axis\u001b[0m\u001b[1;33m(\u001b[0m\u001b[0maxis\u001b[0m\u001b[1;33m)\u001b[0m\u001b[1;33m)\u001b[0m\u001b[1;33m\u001b[0m\u001b[1;33m\u001b[0m\u001b[0m\n\u001b[0;32m   1499\u001b[0m         \u001b[1;32mif\u001b[0m \u001b[0mkey\u001b[0m \u001b[1;33m>=\u001b[0m \u001b[0mlen_axis\u001b[0m \u001b[1;32mor\u001b[0m \u001b[0mkey\u001b[0m \u001b[1;33m<\u001b[0m \u001b[1;33m-\u001b[0m\u001b[0mlen_axis\u001b[0m\u001b[1;33m:\u001b[0m\u001b[1;33m\u001b[0m\u001b[1;33m\u001b[0m\u001b[0m\n\u001b[1;32m-> 1500\u001b[1;33m             \u001b[1;32mraise\u001b[0m \u001b[0mIndexError\u001b[0m\u001b[1;33m(\u001b[0m\u001b[1;34m\"single positional indexer is out-of-bounds\"\u001b[0m\u001b[1;33m)\u001b[0m\u001b[1;33m\u001b[0m\u001b[1;33m\u001b[0m\u001b[0m\n\u001b[0m\u001b[0;32m   1501\u001b[0m \u001b[1;33m\u001b[0m\u001b[0m\n\u001b[0;32m   1502\u001b[0m     \u001b[1;31m# -------------------------------------------------------------------\u001b[0m\u001b[1;33m\u001b[0m\u001b[1;33m\u001b[0m\u001b[1;33m\u001b[0m\u001b[0m\n",
      "\u001b[1;31mIndexError\u001b[0m: single positional indexer is out-of-bounds"
     ]
    }
   ],
   "source": [
    "all_grid = modelo.datacollector.get_model_vars_dataframe()\n",
    "\n",
    "# %%capture\n",
    "\n",
    "fig, axs = plt.subplots(figsize=(7,7))\n",
    "axs.set_xticks([])\n",
    "axs.set_yticks([])\n",
    "patch = plt.imshow(all_grid.iloc[0][0], cmap=plt.cm.binary)\n",
    "\n",
    "def animate(i):\n",
    "    patch.set_data(all_grid.iloc[i][0])\n",
    "    \n",
    "anim = animation.FuncAnimation(fig, animate, frames=step_num)"
   ]
  },
  {
   "cell_type": "code",
   "execution_count": null,
   "metadata": {},
   "outputs": [],
   "source": [
    "anim"
   ]
  },
  {
   "source": [
    "## Resultados"
   ],
   "cell_type": "markdown",
   "metadata": {}
  }
 ]
}