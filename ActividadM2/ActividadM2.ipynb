{
 "metadata": {
  "language_info": {
   "codemirror_mode": {
    "name": "ipython",
    "version": 3
   },
   "file_extension": ".py",
   "mimetype": "text/x-python",
   "name": "python",
   "nbconvert_exporter": "python",
   "pygments_lexer": "ipython3",
   "version": "3.9.1"
  },
  "orig_nbformat": 4,
  "kernelspec": {
   "name": "python3",
   "display_name": "Python 3.9.1 64-bit"
  },
  "interpreter": {
   "hash": "f1693c08d5757864b8fe326e66d9018a045f85b236531333a57364fe1514dd1b"
  }
 },
 "nbformat": 4,
 "nbformat_minor": 2,
 "cells": [
  {
   "cell_type": "markdown",
   "source": [
    "## Luis Omar Leyva Navarrete - A001540367"
   ],
   "metadata": {}
  },
  {
   "cell_type": "markdown",
   "source": [
    "# Actividad M2"
   ],
   "metadata": {}
  },
  {
   "cell_type": "code",
   "execution_count": 1,
   "source": [
    "# !pip install ipympl\r\n",
    "import numpy as np\r\n",
    "import math\r\n",
    "from mpl_toolkits.mplot3d import Axes3D\r\n",
    "import matplotlib.pyplot as plt"
   ],
   "outputs": [],
   "metadata": {}
  },
  {
   "cell_type": "markdown",
   "source": [
    "# Pregunta 1\r\n",
    "1. Sean tres puntos A = [1, 4, -3], B = [-2, 2, 1] y C = [3, -1, 4]:\r\n",
    "\r\n",
    "* Q se determina escalando el punto A en X, Y y Z por un factor de 1.372 y trasladándolo con las coordenadas de B."
   ],
   "metadata": {}
  },
  {
   "cell_type": "code",
   "execution_count": 2,
   "source": [
    "A = np.array([1,4,-3])\r\n",
    "B = np.array([-2,2,1])\r\n",
    "C = np.array([3,-1,4])\r\n",
    "\r\n",
    "Q = A * 1.372\r\n",
    "\r\n",
    "#Funcion translacion\r\n",
    "def translationMatrix(vector):\r\n",
    "  matrix = np.identity(len(vector) + 1)\r\n",
    "  matrix[-1,:-1] = vector\r\n",
    "  return matrix.T\r\n",
    "\r\n",
    "# Escalando y transladando\r\n",
    "Qa = np.append(Q,1)\r\n",
    "Q = np.matmul(translationMatrix(B), Qa)\r\n",
    "\r\n",
    "\r\n",
    "print(\"Q =\", str(Q))\r\n",
    "print('from {} to {}'.format(Qa, Q))"
   ],
   "outputs": [
    {
     "output_type": "stream",
     "name": "stdout",
     "text": [
      "Q = [-0.628  7.488 -3.116  1.   ]\n",
      "from [ 1.372  5.488 -4.116  1.   ] to [-0.628  7.488 -3.116  1.   ]\n"
     ]
    }
   ],
   "metadata": {}
  },
  {
   "cell_type": "markdown",
   "source": [
    "* Rota el punto C, 37.2° con respecto al eje Y. Toma como punto pivote al punto Q."
   ],
   "metadata": {}
  },
  {
   "cell_type": "code",
   "execution_count": 3,
   "source": [
    "#Funcion rotacion\r\n",
    "def rotationMatrix(angle_degrees, axis='x', dim=3):\r\n",
    "  angle = np.deg2rad(angle_degrees)\r\n",
    "  ii = np.cos(angle)\r\n",
    "  ji = np.sin(angle)\r\n",
    "  matrix = np.identity(dim + 1)\r\n",
    "  if axis == 'z':\r\n",
    "    matrix[0, 0] = ii\r\n",
    "    matrix[1, 1] = ii\r\n",
    "    matrix[0, 1] = -ji\r\n",
    "    matrix[1, 0] = ji\r\n",
    "  elif axis == 'y':\r\n",
    "    matrix[0, 0] = ii\r\n",
    "    matrix[2, 2] = ii\r\n",
    "    matrix[0, 2] = -ji\r\n",
    "    matrix[2, 0] = ji\r\n",
    "  else:\r\n",
    "    matrix[1, 1] = ii\r\n",
    "    matrix[2, 2] = ii\r\n",
    "    matrix[1, 2] = -ji\r\n",
    "    matrix[2, 1] = ji\r\n",
    "  return matrix\r\n",
    "\r\n",
    "C = np.append(C,1)\r\n",
    "Q = np.delete(Q,3)\r\n",
    "traM = translationMatrix(Q)\r\n",
    "rotM = rotationMatrix(37.2,'y')\r\n",
    "\r\n",
    "fig = plt.figure(figsize=(4,4))\r\n",
    "ax = fig.add_subplot(111, projection='3d')\r\n",
    "\r\n",
    "plt.ion()\r\n",
    "ax.scatter(0, 0, 0, c='k')\r\n",
    "ax.scatter(*Q, c='m')\r\n",
    "ax.scatter(*C[:-1], c='r')\r\n",
    "\r\n",
    "Caux = C\r\n",
    "for color in plt.cm.winter(np.linspace(0, 1, 30)):\r\n",
    "  # Translate from a point to the origin\r\n",
    "  Caux = np.matmul(np.linalg.inv(traM), Caux)\r\n",
    "\r\n",
    "  # Rotate\r\n",
    "  Caux = np.matmul(rotM, Caux)\r\n",
    "\r\n",
    "  # Translate from a point to the origin\r\n",
    "  Caux = np.matmul(traM, Caux)\r\n",
    "\r\n",
    "  ax.scatter(*Caux[:-1], color=color) \r\n",
    "\r\n",
    "plt.show()"
   ],
   "outputs": [
    {
     "output_type": "display_data",
     "data": {
      "image/png": "[encoded data removed]",
      "text/plain": [
       "<Figure size 288x288 with 1 Axes>"
      ]
     },
     "metadata": {
      "needs_background": "light"
     }
    }
   ],
   "metadata": {}
  },
  {
   "cell_type": "markdown",
   "source": [
    "# Pregunta 2\r\n",
    "2. Considera una pirámide triangular regular. Su lado a = π y su altura h = (√(2/3))a. La base de la pirámide está centrada en el punto D = (-2.345, -7.317, 1.328).\r\n",
    "\r\n",
    "* Encuentra todos los vértices de la pirámide."
   ],
   "metadata": {}
  },
  {
   "cell_type": "code",
   "execution_count": 4,
   "source": [
    "a = math.pi\r\n",
    "h = math.sqrt(2/3) * a\r\n",
    "D = np.array([-2.345, -7.317, 1.328])\r\n",
    "\r\n",
    "v1 = np.array([-2.345+(a/2), -7.317-0.90689, 1.328])\r\n",
    "v2 = np.array([-2.345-(a/2), -7.317-0.90689, 1.328])\r\n",
    "v3 = np.array([-2.345, -7.317+(a/math.sqrt(3)),1.328])\r\n",
    "v4 = np.array([-2.345, -7.317, 1.328+h])\r\n",
    "\r\n",
    "x = np.array([v1[0],v2[0],v3[0],v1[0],v4[0],v2[0]])\r\n",
    "y = np.array([v1[1],v2[1],v3[1],v1[1],v4[1],v2[1]])\r\n",
    "z = np.array([v1[2],v2[2],v3[2],v1[2],v4[2],v2[2]])\r\n",
    "\r\n",
    "x1 = np.array([v3[0],v4[0]])\r\n",
    "y1 = np.array([v3[1],v4[1]])\r\n",
    "z1 = np.array([v3[2],v4[2]])\r\n",
    "\r\n",
    "%matplotlib widget\r\n",
    "\r\n",
    "fig = plt.figure(figsize=(5,5))\r\n",
    "ax = fig.add_subplot(111, projection='3d')\r\n",
    "\r\n",
    "plt.ion()\r\n",
    "\r\n",
    "ax.scatter(*D,c='b')\r\n",
    "ax.plot(x,y,z,'-o',c='r')\r\n",
    "ax.plot(x1,y1,z1,'-o',c='r')\r\n",
    "plt.show()\r\n"
   ],
   "outputs": [
    {
     "output_type": "display_data",
     "data": {
      "application/vnd.jupyter.widget-view+json": {
       "version_major": 2,
       "version_minor": 0,
       "model_id": "db73afeea5894de4a107ce2673a1f02a"
      },
      "text/plain": [
       "Canvas(toolbar=Toolbar(toolitems=[('Home', 'Reset original view', 'home', 'home'), ('Back', 'Back to previous …"
      ]
     },
     "metadata": {}
    }
   ],
   "metadata": {}
  },
  {
   "cell_type": "markdown",
   "source": [
    "* Encuentra la nueva posición de cada vértice cuando la pirámide es rotada con respecto al eje Z por -23°. Usa como pivote el centroide de la pirámide (el centroide es el promedio de cada componente de cada vértice)."
   ],
   "metadata": {}
  },
  {
   "cell_type": "code",
   "execution_count": 5,
   "source": [
    "v1 = np.append(v1,1)\r\n",
    "v2 = np.append(v2,1)\r\n",
    "v3 = np.append(v3,1)\r\n",
    "v4 = np.append(v4,1)\r\n",
    "\r\n",
    "pivot = D\r\n",
    "traM = translationMatrix(pivot)\r\n",
    "rotM = rotationMatrix(-23,'z')\r\n",
    "\r\n",
    "fig = plt.figure(figsize=(4,4))\r\n",
    "ax = fig.add_subplot(111, projection='3d')\r\n",
    "\r\n",
    "plt.ion()\r\n",
    "ax.scatter(*pivot, c='m')\r\n",
    "\r\n",
    "# Descomentar para ver original\r\n",
    "# ax.plot(x,y,z,'-o',c='r')\r\n",
    "# ax.plot(x1,y1,z1,'-o',c='r')\r\n",
    "\r\n",
    "v1aux = v1\r\n",
    "v2aux = v2\r\n",
    "v3aux = v3\r\n",
    "v4aux = v4\r\n",
    "\r\n",
    "for color in plt.cm.winter(np.linspace(0, 1, 30)):\r\n",
    "  v1aux = np.matmul(np.linalg.inv(traM), v1aux)\r\n",
    "  v1aux = np.matmul(rotM, v1aux)\r\n",
    "  v1aux = np.matmul(traM, v1aux)\r\n",
    "  # ax.scatter(*v1aux[:-1], color=color)\r\n",
    "\r\n",
    "  v2aux = np.matmul(np.linalg.inv(traM), v2aux)\r\n",
    "  v2aux = np.matmul(rotM, v2aux)\r\n",
    "  v2aux = np.matmul(traM, v2aux)\r\n",
    "  # ax.scatter(*v2aux[:-1], color=color)\r\n",
    "\r\n",
    "  v3aux = np.matmul(np.linalg.inv(traM), v3aux)\r\n",
    "  v3aux = np.matmul(rotM, v3aux)\r\n",
    "  v3aux = np.matmul(traM, v3aux)\r\n",
    "  # ax.scatter(*v3aux[:-1], color=color)\r\n",
    "\r\n",
    "  v4aux = np.matmul(np.linalg.inv(traM), v4aux)\r\n",
    "  v4aux = np.matmul(rotM, v4aux)\r\n",
    "  v4aux = np.matmul(traM, v4aux)\r\n",
    "  # ax.scatter(*v4aux[:-1], color=color)\r\n",
    "\r\n",
    "xaux = np.array([v1aux[0],v2aux[0],v3aux[0],v1aux[0],v4aux[0],v2aux[0]])\r\n",
    "yaux = np.array([v1aux[1],v2aux[1],v3aux[1],v1aux[1],v4aux[1],v2aux[1]])\r\n",
    "zaux = np.array([v1aux[2],v2aux[2],v3aux[2],v1aux[2],v4aux[2],v2aux[2]])\r\n",
    "\r\n",
    "x1aux = np.array([v3aux[0],v4aux[0]])\r\n",
    "y1aux = np.array([v3aux[1],v4aux[1]])\r\n",
    "z1aux = np.array([v3aux[2],v4aux[2]])\r\n",
    "\r\n",
    "ax.plot(xaux,yaux,zaux,'-o',c='m')\r\n",
    "ax.plot(x1aux,y1aux,z1aux,'-o',c='m')\r\n",
    "\r\n",
    "plt.show()"
   ],
   "outputs": [
    {
     "output_type": "display_data",
     "data": {
      "application/vnd.jupyter.widget-view+json": {
       "version_major": 2,
       "version_minor": 0,
       "model_id": "eb3d5b7ab457484b8206235670262d4a"
      },
      "text/plain": [
       "Canvas(toolbar=Toolbar(toolitems=[('Home', 'Reset original view', 'home', 'home'), ('Back', 'Back to previous …"
      ]
     },
     "metadata": {}
    }
   ],
   "metadata": {}
  },
  {
   "cell_type": "markdown",
   "source": [
    "# Pregunta 3\r\n",
    "* Utiliza el equivalente a transformaciones homogéneas para obtener el resultado. Es decir, no es válido trasladar hacia el resultado final.\r\n",
    "* Tampoco es válido usar funciones predefinidas para transladar y rotar. En su lugar, implementa tus propias funciones de multiplicación homogénea y dibuja líneas al final del proceso, usando los puntos obtenidos.\r\n",
    "* Verifica que el resultado teórico corresponda con el resultado de la ejecución del programa."
   ],
   "metadata": {}
  },
  {
   "cell_type": "markdown",
   "source": [
    "Imagenes en word adjunto"
   ],
   "metadata": {}
  }
 ]
}