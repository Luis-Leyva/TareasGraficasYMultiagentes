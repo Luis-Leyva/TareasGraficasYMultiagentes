{
 "nbformat": 4,
 "nbformat_minor": 2,
 "metadata": {
  "colab": {
   "name": "MatematicasGC.ipynb",
   "provenance": [],
   "collapsed_sections": []
  },
  "kernelspec": {
   "name": "python3",
   "display_name": "Python 3.9.1 64-bit"
  },
  "language_info": {
   "name": "python",
   "version": "3.9.1",
   "mimetype": "text/x-python",
   "codemirror_mode": {
    "name": "ipython",
    "version": 3
   },
   "pygments_lexer": "ipython3",
   "nbconvert_exporter": "python",
   "file_extension": ".py"
  },
  "interpreter": {
   "hash": "f1693c08d5757864b8fe326e66d9018a045f85b236531333a57364fe1514dd1b"
  }
 },
 "cells": [
  {
   "cell_type": "markdown",
   "source": [
    "# Ejemplos interactivos para acompañar las diapositivas 2-2_TC2008B_MatematicasGC.pdf\n",
    "\n",
    "Por Jorge M. Cruz-Duarte (jorge.cruz@tec.mx)"
   ],
   "metadata": {
    "id": "zQ_QhkQe-hz9"
   }
  },
  {
   "cell_type": "code",
   "execution_count": 53,
   "source": [
    "# Numpy para cálculos con álgebra lineal\r\n",
    "import numpy as np"
   ],
   "outputs": [],
   "metadata": {
    "id": "amKNhq0JQxZN"
   }
  },
  {
   "cell_type": "markdown",
   "source": [
    "## Ejemplos con vectores y puntos"
   ],
   "metadata": {
    "id": "xoX4_IdvR-Sb"
   }
  },
  {
   "cell_type": "markdown",
   "source": [
    "Vectores y puntos"
   ],
   "metadata": {
    "id": "gopYN4C_SUPH"
   }
  },
  {
   "cell_type": "code",
   "execution_count": 54,
   "source": [
    "A = np.array([1, 2, 0])\r\n",
    "B = np.array([2, 1, 0])\r\n",
    "v = B - A\r\n",
    "print(v)\r\n",
    "\r\n",
    "print(np.array([0, 0, 0]) - np.array([1, -1, 0]))"
   ],
   "outputs": [
    {
     "output_type": "stream",
     "name": "stdout",
     "text": [
      "[ 1 -1  0]\n",
      "[-1  1  0]\n"
     ]
    }
   ],
   "metadata": {
    "colab": {
     "base_uri": "https://localhost:8080/"
    },
    "id": "f6Yhp-NsSRUC",
    "outputId": "26be148f-6326-4b23-e706-c1256ce90d63"
   }
  },
  {
   "cell_type": "markdown",
   "source": [
    "Vectores canónicos"
   ],
   "metadata": {
    "id": "Is2BGPxHThCT"
   }
  },
  {
   "cell_type": "code",
   "execution_count": 55,
   "source": [
    "mag_v = np.sqrt(np.sum(v ** 2))\r\n",
    "print(mag_v)\r\n",
    "\r\n",
    "print(np.linalg.norm(v))\r\n",
    "\r\n",
    "vu = v / mag_v\r\n",
    "print(vu)"
   ],
   "outputs": [
    {
     "output_type": "stream",
     "name": "stdout",
     "text": [
      "1.4142135623730951\n",
      "1.4142135623730951\n",
      "[ 0.70710678 -0.70710678  0.        ]\n"
     ]
    }
   ],
   "metadata": {
    "colab": {
     "base_uri": "https://localhost:8080/"
    },
    "id": "r3BvMNQJTsiB",
    "outputId": "4e26dc91-aabb-49aa-cdbf-7450883bb7ff"
   }
  },
  {
   "cell_type": "markdown",
   "source": [
    "Suma/resta, producto con un escalar"
   ],
   "metadata": {
    "id": "SQNR6vnrU8-3"
   }
  },
  {
   "cell_type": "code",
   "execution_count": 56,
   "source": [
    "u = np.random.rand(3)\r\n",
    "print(u)\r\n",
    "\r\n",
    "print(u + v)\r\n",
    "\r\n",
    "alpha = 2\r\n",
    "print(alpha * u)"
   ],
   "outputs": [
    {
     "output_type": "stream",
     "name": "stdout",
     "text": [
      "[0.61036006 0.67435514 0.99779897]\n",
      "[ 1.61036006 -0.32564486  0.99779897]\n",
      "[1.22072012 1.34871028 1.99559795]\n"
     ]
    }
   ],
   "metadata": {
    "colab": {
     "base_uri": "https://localhost:8080/"
    },
    "id": "hrkUcrOuVAkG",
    "outputId": "6a830857-fa22-4907-d315-ae09a1fb7644"
   }
  },
  {
   "cell_type": "markdown",
   "source": [
    "Producto punto / Producto Interior"
   ],
   "metadata": {
    "id": "5s19adlhVoC-"
   }
  },
  {
   "cell_type": "code",
   "execution_count": 57,
   "source": [
    "# Dot product\r\n",
    "u_dot_v = np.dot(u, v)\r\n",
    "print(u_dot_v)\r\n",
    "\r\n",
    "# Not-dot product\r\n",
    "u_notdot_v = u * v\r\n",
    "print(u_notdot_v)\r\n",
    "\r\n",
    "# Angle\r\n",
    "mag_u = np.linalg.norm(u)\r\n",
    "cos_theta = u_dot_v / (mag_u * mag_v)\r\n",
    "print(cos_theta)\r\n",
    "\r\n",
    "theta = np.arccos(cos_theta)\r\n",
    "print(theta) # degrees?\r\n",
    "\r\n",
    "print(np.arccos(np.sum(u * v)))"
   ],
   "outputs": [
    {
     "output_type": "stream",
     "name": "stdout",
     "text": [
      "-0.06399507553241457\n",
      "[ 0.61036006 -0.67435514  0.        ]\n",
      "-0.033515869226805675\n",
      "1.6043184740003547\n",
      "1.634835163605888\n"
     ]
    }
   ],
   "metadata": {
    "colab": {
     "base_uri": "https://localhost:8080/"
    },
    "id": "gIcPVNrGVsDZ",
    "outputId": "cc877a65-6617-43ec-f97d-d774b81e0d93"
   }
  },
  {
   "cell_type": "markdown",
   "source": [
    "Producto cruz"
   ],
   "metadata": {
    "id": "U82qreaB8ELL"
   }
  },
  {
   "cell_type": "code",
   "execution_count": 58,
   "source": [
    "u = [2, 0, 1]\r\n",
    "v = [1, -1, 3]\r\n",
    "\r\n",
    "u_cross_v = np.cross(u, v)\r\n",
    "print(u_cross_v)"
   ],
   "outputs": [
    {
     "output_type": "stream",
     "name": "stdout",
     "text": [
      "[ 1 -5 -2]\n"
     ]
    }
   ],
   "metadata": {
    "colab": {
     "base_uri": "https://localhost:8080/"
    },
    "id": "bgsDeJy88F67",
    "outputId": "f9dc44bd-1801-4531-b41c-5257be3da43e"
   }
  },
  {
   "cell_type": "markdown",
   "source": [
    "Aplicaciones: Ecuaciones Paramétricas"
   ],
   "metadata": {
    "id": "GaA9ha3K9FKU"
   }
  },
  {
   "cell_type": "code",
   "execution_count": 59,
   "source": [
    "import matplotlib.pyplot as plt\r\n",
    "x = np.linspace(0, 16, 50)\r\n",
    "y = np.sqrt(x)\r\n",
    "plt.figure()\r\n",
    "plt.plot(x, y)\r\n",
    "plt.xlabel('x'), plt.ylabel('y = f(x)')\r\n",
    "plt.show()"
   ],
   "outputs": [
    {
     "output_type": "display_data",
     "data": {
      "image/png": "[encoded data removed]",
      "text/plain": [
       "<Figure size 432x288 with 1 Axes>"
      ]
     },
     "metadata": {
      "needs_background": "light"
     }
    }
   ],
   "metadata": {
    "colab": {
     "base_uri": "https://localhost:8080/",
     "height": 279
    },
    "id": "vzrLlBPT9Jx2",
    "outputId": "3879cb59-dfc0-47f3-824a-dff24d00f2d2"
   }
  },
  {
   "cell_type": "code",
   "execution_count": 60,
   "source": [
    "t = np.linspace(0, 16, 50)\r\n",
    "x = t\r\n",
    "y = np.sqrt(x)\r\n",
    "plt.figure()\r\n",
    "plt.plot(x, y)\r\n",
    "plt.xlabel('x = g(t)'), plt.ylabel('y = f(t)')\r\n",
    "plt.show()"
   ],
   "outputs": [
    {
     "output_type": "display_data",
     "data": {
      "image/png": "[encoded data removed]",
      "text/plain": [
       "<Figure size 432x288 with 1 Axes>"
      ]
     },
     "metadata": {
      "needs_background": "light"
     }
    }
   ],
   "metadata": {
    "colab": {
     "base_uri": "https://localhost:8080/",
     "height": 279
    },
    "id": "OhKxml_i93fb",
    "outputId": "359ec4df-8799-412c-c337-3c39876e42d8"
   }
  },
  {
   "cell_type": "markdown",
   "source": [
    "Aplicaciones: Movimiento con vectores"
   ],
   "metadata": {
    "id": "ZAQCW7U1-O-x"
   }
  },
  {
   "cell_type": "code",
   "execution_count": 61,
   "source": [
    "# Cardumen\r\n",
    "P0 = np.array([21, 32, 10]) # m\r\n",
    "P1 = np.array([65, 10, 7]) # m\r\n",
    "delta_t = 34 # s\r\n",
    "\r\n",
    "velocidad = (P1 - P0) / delta_t\r\n",
    "print(velocidad)\r\n",
    "\r\n",
    "rapidez = np.linalg.norm(velocidad)\r\n",
    "print(rapidez)"
   ],
   "outputs": [
    {
     "output_type": "stream",
     "name": "stdout",
     "text": [
      "[ 1.29411765 -0.64705882 -0.08823529]\n",
      "1.4495554741590126\n"
     ]
    }
   ],
   "metadata": {
    "colab": {
     "base_uri": "https://localhost:8080/"
    },
    "id": "NjuP3SXr-SY0",
    "outputId": "efcf89ae-d73e-4624-acf2-f069138e0326"
   }
  },
  {
   "cell_type": "markdown",
   "source": [
    "Aplicaciones: Líneas"
   ],
   "metadata": {
    "id": "XnpeMQ8vAFTY"
   }
  },
  {
   "cell_type": "code",
   "execution_count": 62,
   "source": [
    "A = np.array([1, 2, 3])\r\n",
    "B = np.array([0, 1, 6])\r\n",
    "P_func = lambda t: A + t * (B - A)\r\n",
    "\r\n",
    "print('P(0) = {}'.format(P_func(0)))\r\n",
    "print('P(1) = {}'.format(P_func(1)))"
   ],
   "outputs": [
    {
     "output_type": "stream",
     "name": "stdout",
     "text": [
      "P(0) = [1 2 3]\n",
      "P(1) = [0 1 6]\n"
     ]
    }
   ],
   "metadata": {
    "colab": {
     "base_uri": "https://localhost:8080/"
    },
    "id": "4H_Gq9gNAJPh",
    "outputId": "774d1cc3-68a8-4018-c220-9f41de84d03d"
   }
  },
  {
   "cell_type": "markdown",
   "source": [
    "Aplicaciones: Rayo reflejado"
   ],
   "metadata": {
    "id": "izf2fhchHNJ4"
   }
  },
  {
   "cell_type": "code",
   "execution_count": 63,
   "source": [
    "origin = np.array([[0, 0],[0, 0]]) # origin point\r\n",
    "vector = np.array([1, 2])\r\n",
    "normal = np.array([0, 1])\r\n",
    "\r\n",
    "paralelo = normal * np.dot(normal, vector)\r\n",
    "perpendicular = vector - paralelo\r\n",
    "reflejado = paralelo - perpendicular\r\n",
    "\r\n",
    "ax = plt.axes()\r\n",
    "plt.ion()\r\n",
    "\r\n",
    "plt.quiver(*origin, *vector, color='k', scale=4)\r\n",
    "plt.quiver(*origin, *paralelo, color='b', scale=4)\r\n",
    "plt.quiver(*origin, *normal, color='r', scale=4)\r\n",
    "plt.quiver(*origin, *reflejado, color='g', scale=4)\r\n",
    "plt.quiver(*origin, *perpendicular, color='m', scale=4)\r\n",
    "\r\n",
    "plt.ioff()\r\n",
    "plt.ylim([-0.01, 0.1])\r\n",
    "plt.xlim([-0.03, 0.03])\r\n",
    "plt.show()"
   ],
   "outputs": [
    {
     "output_type": "display_data",
     "data": {
      "image/png": "[encoded data removed]",
      "text/plain": [
       "<Figure size 432x288 with 1 Axes>"
      ]
     },
     "metadata": {
      "needs_background": "light"
     }
    }
   ],
   "metadata": {
    "colab": {
     "base_uri": "https://localhost:8080/",
     "height": 269
    },
    "id": "n5WuCmBuHPiY",
    "outputId": "98b5d321-bfe2-4b14-9ef5-d588a8939917"
   }
  },
  {
   "cell_type": "markdown",
   "source": [
    "## Ejemplos con transformaciones y matrices"
   ],
   "metadata": {
    "id": "6gqXMBDU5woO"
   }
  },
  {
   "cell_type": "markdown",
   "source": [
    "Multiplicacióón de matrix-vector"
   ],
   "metadata": {
    "id": "cjyKftJa5-6Y"
   }
  },
  {
   "cell_type": "code",
   "execution_count": 64,
   "source": [
    "M = np.matrix([[3, 7], [12, 98]])\r\n",
    "v = np.array([4, 6])\r\n",
    "\r\n",
    "# Old fashion\r\n",
    "Mv = np.zeros((1, 2))\r\n",
    "for i in range(M.shape[0]):\r\n",
    "  for j in range(M.shape[1]):\r\n",
    "    Mv[0][i] += M[i,j] * v[j]\r\n",
    "print(Mv)\r\n",
    "\r\n",
    "# New fashion\r\n",
    "print(np.matmul(M, v))\r\n"
   ],
   "outputs": [
    {
     "output_type": "stream",
     "name": "stdout",
     "text": [
      "[[ 54. 636.]]\n",
      "[[ 54 636]]\n"
     ]
    }
   ],
   "metadata": {
    "colab": {
     "base_uri": "https://localhost:8080/"
    },
    "id": "6BDwgBOa50TT",
    "outputId": "77d99a1a-661a-49bb-fb10-d66d91096000"
   }
  },
  {
   "cell_type": "code",
   "execution_count": 65,
   "source": [
    "# Other example\r\n",
    "M2 = [[2, 4, 2], \r\n",
    "      [8, 2, 1], \r\n",
    "      [4, 2, 8]]\r\n",
    "v2 = [4, 10, 2]\r\n",
    "\r\n",
    "Mv2 = np.matmul(M2, v2)\r\n",
    "print(Mv2)"
   ],
   "outputs": [
    {
     "output_type": "stream",
     "name": "stdout",
     "text": [
      "[52 54 52]\n"
     ]
    }
   ],
   "metadata": {
    "colab": {
     "base_uri": "https://localhost:8080/"
    },
    "id": "L10G0NvM7vWY",
    "outputId": "a9bc626b-72a0-4c5c-bf9e-99edcd86721a"
   }
  },
  {
   "cell_type": "markdown",
   "source": [
    "Traslación Homogénea"
   ],
   "metadata": {
    "id": "PEMAJ_G78aSw"
   }
  },
  {
   "cell_type": "code",
   "execution_count": 66,
   "source": [
    "def translationMatrix(vector):\r\n",
    "  matrix = np.identity(len(vector) + 1)\r\n",
    "  matrix[-1,:-1] = vector\r\n",
    "  return matrix.T\r\n",
    "\r\n",
    "print(translationMatrix([2, 3, 4]))\r\n",
    "\r\n",
    "# Get the new point\r\n",
    "Q0 = np.array([1, 2, 3, 1])\r\n",
    "Q1 = np.matmul(translationMatrix([2, 3, 4]), Q0)\r\n",
    "\r\n",
    "print('from {} to {}'.format(Q0, Q1))"
   ],
   "outputs": [
    {
     "output_type": "stream",
     "name": "stdout",
     "text": [
      "[[1. 0. 0. 2.]\n",
      " [0. 1. 0. 3.]\n",
      " [0. 0. 1. 4.]\n",
      " [0. 0. 0. 1.]]\n",
      "from [1 2 3 1] to [3. 5. 7. 1.]\n"
     ]
    }
   ],
   "metadata": {
    "colab": {
     "base_uri": "https://localhost:8080/"
    },
    "id": "oqsx1HR08dav",
    "outputId": "45ef36b7-7347-42af-ed1b-bc42d948ba32"
   }
  },
  {
   "cell_type": "markdown",
   "source": [
    "Escala Homogénea"
   ],
   "metadata": {
    "id": "alBM9EStCM52"
   }
  },
  {
   "cell_type": "code",
   "execution_count": 67,
   "source": [
    "def scaleMatrix(vector):\r\n",
    "  return np.diag([*vector, 1])\r\n",
    "\r\n",
    "print(scaleMatrix([2, 3, 4]))\r\n",
    "\r\n",
    "# Get the new point\r\n",
    "Q0 = np.array([1, 2, 3, 1])\r\n",
    "Q1 = np.matmul(scaleMatrix([2, 3, 4]), Q0)\r\n",
    "print('from {} to {}'.format(Q0, Q1))"
   ],
   "outputs": [
    {
     "output_type": "stream",
     "name": "stdout",
     "text": [
      "[[2 0 0 0]\n",
      " [0 3 0 0]\n",
      " [0 0 4 0]\n",
      " [0 0 0 1]]\n",
      "from [1 2 3 1] to [ 2  6 12  1]\n"
     ]
    }
   ],
   "metadata": {
    "colab": {
     "base_uri": "https://localhost:8080/"
    },
    "id": "bEf8ybjqAWx_",
    "outputId": "72e380fb-fa85-4ba0-ebd8-877e440535cb"
   }
  },
  {
   "cell_type": "markdown",
   "source": [
    "Rotación Homogénea"
   ],
   "metadata": {
    "id": "96AKteomCP53"
   }
  },
  {
   "cell_type": "code",
   "execution_count": 68,
   "source": [
    "def rotationMatrix(angle_degrees, axis='x', dim=3):\r\n",
    "  angle = np.deg2rad(angle_degrees)\r\n",
    "  ii = np.cos(angle)\r\n",
    "  ji = np.sin(angle)\r\n",
    "  matrix = np.identity(dim + 1)\r\n",
    "  if axis == 'z':\r\n",
    "    matrix[0, 0] = ii\r\n",
    "    matrix[1, 1] = ii\r\n",
    "    matrix[0, 1] = -ji\r\n",
    "    matrix[1, 0] = ji\r\n",
    "  elif axis == 'y':\r\n",
    "    matrix[0, 0] = ii\r\n",
    "    matrix[2, 2] = ii\r\n",
    "    matrix[0, 2] = -ji\r\n",
    "    matrix[2, 0] = ji\r\n",
    "  else:\r\n",
    "    matrix[1, 1] = ii\r\n",
    "    matrix[2, 2] = ii\r\n",
    "    matrix[1, 2] = -ji\r\n",
    "    matrix[2, 1] = ji\r\n",
    "  return matrix\r\n",
    "\r\n",
    "print(rotationMatrix(15))\r\n",
    "\r\n",
    "# Get the new point\r\n",
    "Q0 = np.array([1, 0, 0, 1])\r\n",
    "Q1 = np.matmul(rotationMatrix(90), Q0)\r\n",
    "print('from {} to {}'.format(Q0, Q1))"
   ],
   "outputs": [
    {
     "output_type": "stream",
     "name": "stdout",
     "text": [
      "[[ 1.          0.          0.          0.        ]\n",
      " [ 0.          0.96592583 -0.25881905  0.        ]\n",
      " [ 0.          0.25881905  0.96592583  0.        ]\n",
      " [ 0.          0.          0.          1.        ]]\n",
      "from [1 0 0 1] to [1. 0. 0. 1.]\n"
     ]
    }
   ],
   "metadata": {
    "colab": {
     "base_uri": "https://localhost:8080/"
    },
    "id": "LG_cIEaeCTZM",
    "outputId": "15183c42-4876-4334-b615-da959936d2d2"
   }
  },
  {
   "cell_type": "code",
   "execution_count": 69,
   "source": [
    "# Viz\r\n",
    "from mpl_toolkits.mplot3d import Axes3D\r\n",
    "fig = plt.figure(figsize=(4,4))\r\n",
    "ax = fig.add_subplot(111, projection='3d')\r\n",
    "\r\n",
    "plt.ion()\r\n",
    "ax.scatter(0, 0, 0, c='k')\r\n",
    "ax.scatter(*Q0[:-1], c='r')\r\n",
    "\r\n",
    "Qaux = Q0\r\n",
    "for color in plt.cm.winter(np.linspace(0, 1, 30)):\r\n",
    "  Qaux = np.matmul(rotationMatrix(10, 'z'), Qaux)\r\n",
    "  ax.scatter(*Qaux[:-1], color=color) \r\n",
    "\r\n",
    "plt.show()"
   ],
   "outputs": [
    {
     "output_type": "display_data",
     "data": {
      "image/png": "[encoded data removed]",
      "text/plain": [
       "<Figure size 288x288 with 1 Axes>"
      ]
     },
     "metadata": {
      "needs_background": "light"
     }
    }
   ],
   "metadata": {
    "colab": {
     "base_uri": "https://localhost:8080/",
     "height": 248
    },
    "id": "sQ5sK_i2H3rZ",
    "outputId": "025ec00f-d6ed-4072-b85d-a8ead66bfc8a"
   }
  },
  {
   "cell_type": "markdown",
   "source": [
    "Rotación alrededor de un punto pivote"
   ],
   "metadata": {
    "id": "_771Hmdk2SWf"
   }
  },
  {
   "cell_type": "code",
   "execution_count": 70,
   "source": [
    "Q0 = np.array([1, 0, 0, 1])\r\n",
    "pivot = [0.6, 0.1, 0.1]\r\n",
    "traM = translationMatrix(pivot)\r\n",
    "rotM = rotationMatrix(10, 'z')\r\n",
    "\r\n",
    "fig = plt.figure(figsize=(4,4))\r\n",
    "ax = fig.add_subplot(111, projection='3d')\r\n",
    "\r\n",
    "plt.ion()\r\n",
    "ax.scatter(0, 0, 0, c='k')\r\n",
    "ax.scatter(*pivot, c='m')\r\n",
    "ax.scatter(*Q0[:-1], c='r')\r\n",
    "\r\n",
    "Qaux = Q0\r\n",
    "# for color in plt.cm.winter(np.linspace(0, 1, 30)):\r\n",
    "  # Translate from a point to the origin\r\n",
    "Qaux = np.matmul(np.linalg.inv(traM), Qaux)\r\n",
    "\r\n",
    "  # Rotate\r\n",
    "Qaux = np.matmul(rotM, Qaux)\r\n",
    "\r\n",
    "  # Translate from a point to the origin\r\n",
    "Qaux = np.matmul(traM, Qaux)\r\n",
    "\r\n",
    "ax.scatter(*Qaux[:-1], color=color) \r\n",
    "\r\n",
    "plt.show()"
   ],
   "outputs": [
    {
     "output_type": "display_data",
     "data": {
      "image/png": "[encoded data removed]",
      "text/plain": [
       "<Figure size 288x288 with 1 Axes>"
      ]
     },
     "metadata": {
      "needs_background": "light"
     }
    }
   ],
   "metadata": {
    "colab": {
     "base_uri": "https://localhost:8080/",
     "height": 248
    },
    "id": "tX3SGLf22U_v",
    "outputId": "62707b41-9430-49a0-c960-470c0b663a9f"
   }
  },
  {
   "cell_type": "markdown",
   "source": [
    "Ejemplo adiciona: ¿qué pasa si se incluye la escala?"
   ],
   "metadata": {
    "id": "GVntR94C5hI_"
   }
  },
  {
   "cell_type": "code",
   "execution_count": 71,
   "source": [
    "scaM = scaleMatrix([0.95, 0.95, 0.95])\r\n",
    "\r\n",
    "fig = plt.figure(figsize=(4,4))\r\n",
    "ax = fig.add_subplot(111, projection='3d')\r\n",
    "\r\n",
    "plt.ion()\r\n",
    "ax.scatter(0, 0, 0, c='k')\r\n",
    "ax.scatter(*pivot, c='m')\r\n",
    "ax.scatter(*Q0[:-1], c='r')\r\n",
    "\r\n",
    "Qaux = Q0\r\n",
    "for color in plt.cm.winter(np.linspace(0, 1, 50)):\r\n",
    "  # Translate from a point to the origin\r\n",
    "  Qaux = np.matmul(np.linalg.inv(traM), Qaux)  \r\n",
    "\r\n",
    "  # Rotate\r\n",
    "  Qaux = np.matmul(rotM, Qaux)\r\n",
    "\r\n",
    "  # Scale (uncomment next line)\r\n",
    "  # Qaux = np.matmul(scaM, Qaux)\r\n",
    "\r\n",
    "  # Translate from a point to the origin\r\n",
    "  Qaux = np.matmul(traM, Qaux)\r\n",
    "\r\n",
    "  # Scale (comment next line)\r\n",
    "  Qaux = np.matmul(scaM, Qaux)\r\n",
    "  \r\n",
    "  ax.scatter(*Qaux[:-1], color=color) \r\n",
    "\r\n",
    "plt.show()"
   ],
   "outputs": [
    {
     "output_type": "display_data",
     "data": {
      "image/png": "[encoded data removed]",
      "text/plain": [
       "<Figure size 288x288 with 1 Axes>"
      ]
     },
     "metadata": {
      "needs_background": "light"
     }
    }
   ],
   "metadata": {
    "colab": {
     "base_uri": "https://localhost:8080/",
     "height": 248
    },
    "id": "Ripc-WV75miR",
    "outputId": "656d4e08-0eb9-4316-bad0-d34fb8cd9c43"
   }
  },
  {
   "cell_type": "markdown",
   "source": [
    "Ejemplo: Imagen 100 por 100"
   ],
   "metadata": {
    "id": "H-RLyLDD7Zov"
   }
  },
  {
   "cell_type": "code",
   "execution_count": 72,
   "source": [
    "w = 100 # ancho\n",
    "h = 100 # alto\n",
    "\n",
    "M2 = translationMatrix([w/2, h/2])\n",
    "M1 = np.linalg.inv(M2)\n",
    "R30 = rotationMatrix(30, 'z', 2)\n",
    "\n",
    "print('M1 = {}'.format(M1))\n",
    "print('M2 = {}'.format(M2))\n",
    "print('R30 = {}'.format(R30))\n",
    "\n",
    "R30M1 = np.matmul(R30, M1)\n",
    "print('R30M1 = {}'.format(R30M1))\n",
    "\n",
    "M = np.matmul(M2, R30M1)\n",
    "print('M = {}'.format(M))"
   ],
   "outputs": [
    {
     "output_type": "stream",
     "name": "stdout",
     "text": [
      "M1 = [[  1.   0. -50.]\n",
      " [  0.   1. -50.]\n",
      " [  0.   0.   1.]]\n",
      "M2 = [[ 1.  0. 50.]\n",
      " [ 0.  1. 50.]\n",
      " [ 0.  0.  1.]]\n",
      "R30 = [[ 0.8660254 -0.5        0.       ]\n",
      " [ 0.5        0.8660254  0.       ]\n",
      " [ 0.         0.         1.       ]]\n",
      "R30M1 = [[  0.8660254   -0.5        -18.30127019]\n",
      " [  0.5          0.8660254  -68.30127019]\n",
      " [  0.           0.           1.        ]]\n",
      "M = [[  0.8660254   -0.5         31.69872981]\n",
      " [  0.5          0.8660254  -18.30127019]\n",
      " [  0.           0.           1.        ]]\n"
     ]
    }
   ],
   "metadata": {
    "colab": {
     "base_uri": "https://localhost:8080/"
    },
    "id": "qkiqvSLd7fZr",
    "outputId": "0b2eb5fe-ecc6-4e3a-c588-80a739605e26"
   }
  },
  {
   "cell_type": "markdown",
   "source": [
    "## Ejercicios"
   ],
   "metadata": {
    "id": "H8nPNijJ_MlS"
   }
  },
  {
   "cell_type": "markdown",
   "source": [
    "Encuentra el ángulo (en grados) que existe entre los vectores: "
   ],
   "metadata": {
    "id": "iYq0xg5d_4r0"
   }
  },
  {
   "cell_type": "code",
   "execution_count": 73,
   "source": [
    "# Datos:\n",
    "u = [1.077, 4.501, 7.523]\n",
    "v = [-6.530, -1.382, 2.369]\n",
    "\n",
    "# angle(u, v) = ???"
   ],
   "outputs": [],
   "metadata": {
    "id": "_mJgyKRs_WMr"
   }
  },
  {
   "cell_type": "markdown",
   "source": [
    "Encuentra el producto cruz entre los vectores:"
   ],
   "metadata": {
    "id": "Q9T18baoAG6_"
   }
  },
  {
   "cell_type": "code",
   "execution_count": 74,
   "source": [
    "# Datos:\n",
    "u = [1.077, 4.501, 7.523]\n",
    "v = [-6.530, -1.382, 2.369]\n",
    "\n",
    "# u x v = ???"
   ],
   "outputs": [],
   "metadata": {
    "id": "_FLWo2e-AMu-"
   }
  },
  {
   "cell_type": "markdown",
   "source": [
    "Multiplicación de matrices"
   ],
   "metadata": {
    "id": "2B91Sc5LAaae"
   }
  },
  {
   "cell_type": "code",
   "execution_count": 75,
   "source": [
    "# Datos:\n",
    "M1 = [[7, 2, 2],\n",
    "      [6, 1, 1],\n",
    "      [0, 6, -2]]\n",
    "M2 = [[6, 7, 6],\n",
    "      [-2, 3, 2],\n",
    "      [5, -1, -2]]\n",
    "\n",
    "# M1 * M2 = ???"
   ],
   "outputs": [],
   "metadata": {
    "id": "XSrSH72tAihN"
   }
  },
  {
   "cell_type": "code",
   "execution_count": 76,
   "source": [
    "# Datos:\n",
    "M3 = [[0, 7, 3],\n",
    "      [0, 0, 1]]\n",
    "M4 = [[4, 7],\n",
    "      [3, 5],\n",
    "      [7, 1]]\n",
    "\n",
    "# M3 * M4 = ???"
   ],
   "outputs": [],
   "metadata": {
    "id": "Wx_rQtq5A7kN"
   }
  },
  {
   "cell_type": "markdown",
   "source": [
    "Rotar el punto B, 22º en el eje Y tomando A como el pivote de rotación."
   ],
   "metadata": {
    "id": "E3T6FTedBLi_"
   }
  },
  {
   "cell_type": "code",
   "execution_count": 77,
   "source": [
    "# Datos:\n",
    "A = [1, 2, 0]\n",
    "B = [2, 1, 0]\n",
    "angle = 22 # grados"
   ],
   "outputs": [],
   "metadata": {
    "id": "huLhe-27BakN"
   }
  },
  {
   "cell_type": "markdown",
   "source": [
    "Teniendo un cubo de lado 2.5 unidades, con centro en C = [7, -2.2, 3.01]:\n",
    "*   Localiza sus vértices\n",
    "*   Encuentra la posición final de cada véertice al rotar el cubo con respecto al pivote P = [-0.23, 4.1, 0.81]\n",
    "*   Usa el eje Z para rotar\n",
    "\n"
   ],
   "metadata": {
    "id": "XmRWnxFpBpzS"
   }
  },
  {
   "cell_type": "code",
   "execution_count": 78,
   "source": [
    "# Datos:\n",
    "lado = 2.5\n",
    "C = [7, -2.2, 3.01]\n",
    "P = [-0.23, 4.1, 0.81]"
   ],
   "outputs": [],
   "metadata": {
    "id": "OSQk285RCFj5"
   }
  }
 ]
}