{
  "nbformat": 4,
  "nbformat_minor": 0,
  "metadata": {
    "colab": {
      "name": "ActividadM1.ipynb",
      "provenance": []
    },
    "kernelspec": {
      "name": "python3",
      "display_name": "Python 3.9.1 64-bit"
    },
    "language_info": {
      "name": "python",
      "version": "3.9.1"
    },
    "interpreter": {
      "hash": "f1693c08d5757864b8fe326e66d9018a045f85b236531333a57364fe1514dd1b"
    }
  },
  "cells": [
    {
      "cell_type": "markdown",
      "metadata": {
        "id": "4SxYi7pJjhLM"
      },
      "source": [
        "## Luis Omar Leyva Navarrete - A01570367"
      ]
    },
    {
      "source": [
        "# Instrucciones\n",
        "### Dado:\n",
        "\n",
        "* Habitación de MxN espacios.\n",
        "* Número de agentes.\n",
        "* Porcentaje de celdas inicialmente sucias.\n",
        "* Tiempo máximo de ejecución.\n",
        "\n",
        "### Realiza la siguiente simulación:\n",
        "* Inicializa las celdas sucias (ubicaciones aleatorias).\n",
        "* Todos los agentes empiezan en la celda [1,1].\n",
        "* En cada paso de tiempo:\n",
        "  * Si la celda está sucia, entonces aspira.\n",
        "  * Si la celda está limpia, el agente elije una dirección aleatoria para moverse (unas de las 8 celdas vecinas) y elije la acción de movimiento (si no puede moverse allí, permanecerá en la misma celda).\n",
        "* Se ejecuta el tiempo máximo establecido.\n",
        "\n",
        "### Deberás recopilar la siguiente información durante la ejecución:\n",
        "* Tiempo necesario hasta que todas las celdas estén limpias (o se haya llegado al tiempo máximo).\n",
        "* Porcentaje de celdas limpias después del termino de la simulación.\n",
        "* Número de movimientos realizados por todos los agentes.\n",
        "* Analiza cómo la cantidad de agentes impacta el tiempo dedicado, así como la cantidad de movimientos realizados. Desarrollar un informe con lo observado."
      ],
      "cell_type": "markdown",
      "metadata": {
        "id": "PuTK-G3eLAK5"
      }
    },
    {
      "cell_type": "markdown",
      "metadata": {
        "id": "QF48wQl8NPVH"
      },
      "source": [
        "## Imports\n",
        "Se utilizaran los siguientes paquetes de python\n",
        "- `python`: asegúrense de usar la versión 3+.\n",
        "- `mesa`: el framework de Python para el modelado de agentes.\n",
        "- `numpy`: es una biblioteca de Python para el manejo de matrices, arreglos, manipulación matemática, lógica y mucho más.\n",
        "- `matplotlib`: es una biblioteca para crear visualizaciones estáticas, animadas e interactivas en Python.\n",
        "\n",
        "Para instalar mesa hay que hay que utilizar el siguiente comando:"
      ]
    },
    {
      "cell_type": "code",
      "metadata": {
        "id": "0h6jZDLHuPzM"
      },
      "source": [
        "!pip install mesa"
      ],
      "execution_count": 80,
      "outputs": [
        {
          "output_type": "stream",
          "name": "stdout",
          "text": [
            "Requirement already satisfied: mesa in c:\\users\\luis\\appdata\\local\\programs\\python\\python39\\lib\\site-packages (0.8.9)\n",
            "Requirement already satisfied: pandas in c:\\users\\luis\\appdata\\local\\programs\\python\\python39\\lib\\site-packages (from mesa) (1.3.1)\n",
            "Requirement already satisfied: numpy in c:\\users\\luis\\appdata\\local\\programs\\python\\python39\\lib\\site-packages (from mesa) (1.21.1)\n",
            "Requirement already satisfied: tqdm in c:\\users\\luis\\appdata\\local\\programs\\python\\python39\\lib\\site-packages (from mesa) (4.62.0)\n",
            "Requirement already satisfied: networkx in c:\\users\\luis\\appdata\\local\\programs\\python\\python39\\lib\\site-packages (from mesa) (2.6.2)\n",
            "Requirement already satisfied: cookiecutter in c:\\users\\luis\\appdata\\local\\programs\\python\\python39\\lib\\site-packages (from mesa) (1.7.3)\n",
            "Requirement already satisfied: tornado in c:\\users\\luis\\appdata\\local\\programs\\python\\python39\\lib\\site-packages (from mesa) (6.1)\n",
            "Requirement already satisfied: click in c:\\users\\luis\\appdata\\local\\programs\\python\\python39\\lib\\site-packages (from mesa) (8.0.1)\n",
            "Requirement already satisfied: colorama in c:\\users\\luis\\appdata\\local\\programs\\python\\python39\\lib\\site-packages (from click->mesa) (0.4.4)\n",
            "Requirement already satisfied: poyo>=0.5.0 in c:\\users\\luis\\appdata\\local\\programs\\python\\python39\\lib\\site-packages (from cookiecutter->mesa) (0.5.0)\n",
            "Requirement already satisfied: six>=1.10 in c:\\users\\luis\\appdata\\local\\programs\\python\\python39\\lib\\site-packages (from cookiecutter->mesa) (1.16.0)\n",
            "Requirement already satisfied: Jinja2<4.0.0,>=2.7 in c:\\users\\luis\\appdata\\local\\programs\\python\\python39\\lib\\site-packages (from cookiecutter->mesa) (3.0.1)\n",
            "Requirement already satisfied: jinja2-time>=0.2.0 in c:\\users\\luis\\appdata\\local\\programs\\python\\python39\\lib\\site-packages (from cookiecutter->mesa) (0.2.0)\n",
            "Requirement already satisfied: binaryornot>=0.4.4 in c:\\users\\luis\\appdata\\local\\programs\\python\\python39\\lib\\site-packages (from cookiecutter->mesa) (0.4.4)\n",
            "Requirement already satisfied: python-slugify>=4.0.0 in c:\\users\\luis\\appdata\\local\\programs\\python\\python39\\lib\\site-packages (from cookiecutter->mesa) (5.0.2)\n",
            "Requirement already satisfied: requests>=2.23.0 in c:\\users\\luis\\appdata\\local\\programs\\python\\python39\\lib\\site-packages (from cookiecutter->mesa) (2.26.0)\n",
            "Requirement already satisfied: chardet>=3.0.2 in c:\\users\\luis\\appdata\\local\\programs\\python\\python39\\lib\\site-packages (from binaryornot>=0.4.4->cookiecutter->mesa) (4.0.0)\n",
            "Requirement already satisfied: MarkupSafe>=2.0 in c:\\users\\luis\\appdata\\local\\programs\\python\\python39\\lib\\site-packages (from Jinja2<4.0.0,>=2.7->cookiecutter->mesa) (2.0.1)\n",
            "Requirement already satisfied: arrow in c:\\users\\luis\\appdata\\local\\programs\\python\\python39\\lib\\site-packages (from jinja2-time>=0.2.0->cookiecutter->mesa) (1.1.1)\n",
            "Requirement already satisfied: text-unidecode>=1.3 in c:\\users\\luis\\appdata\\local\\programs\\python\\python39\\lib\\site-packages (from python-slugify>=4.0.0->cookiecutter->mesa) (1.3)\n",
            "Requirement already satisfied: charset-normalizer~=2.0.0 in c:\\users\\luis\\appdata\\local\\programs\\python\\python39\\lib\\site-packages (from requests>=2.23.0->cookiecutter->mesa) (2.0.4)\n",
            "Requirement already satisfied: urllib3<1.27,>=1.21.1 in c:\\users\\luis\\appdata\\local\\programs\\python\\python39\\lib\\site-packages (from requests>=2.23.0->cookiecutter->mesa) (1.26.6)\n",
            "Requirement already satisfied: certifi>=2017.4.17 in c:\\users\\luis\\appdata\\local\\programs\\python\\python39\\lib\\site-packages (from requests>=2.23.0->cookiecutter->mesa) (2021.5.30)\n",
            "Requirement already satisfied: idna<4,>=2.5 in c:\\users\\luis\\appdata\\local\\programs\\python\\python39\\lib\\site-packages (from requests>=2.23.0->cookiecutter->mesa) (3.2)\n",
            "Requirement already satisfied: python-dateutil>=2.7.0 in c:\\users\\luis\\appdata\\local\\programs\\python\\python39\\lib\\site-packages (from arrow->jinja2-time>=0.2.0->cookiecutter->mesa) (2.8.2)\n",
            "Requirement already satisfied: pytz>=2017.3 in c:\\users\\luis\\appdata\\local\\programs\\python\\python39\\lib\\site-packages (from pandas->mesa) (2021.1)\n"
          ]
        }
      ]
    },
    {
      "source": [
        "Ahora importamos las librerias y funciones a utilizar."
      ],
      "cell_type": "markdown",
      "metadata": {
        "id": "AOweuHEvub7D"
      }
    },
    {
      "cell_type": "code",
      "execution_count": 81,
      "metadata": {},
      "outputs": [],
      "source": [
        "# Importamos las clases para manejar el modelo y agente.\n",
        "from mesa import Agent, Model \n",
        "\n",
        "# Utilizamos Multigrid para poder manejar varios agentes.\n",
        "from mesa.space import MultiGrid\n",
        "\n",
        "# Activamos a todos los agentes a la vez.\n",
        "from mesa.time import RandomActivation\n",
        "\n",
        "# Obtenemos la información completa del grid para poder graficarlo.\n",
        "from mesa.datacollection import DataCollector\n",
        "\n",
        "# Esta libreria se utilizara en conjunto con data collector para graficar el grid.\n",
        "%matplotlib inline\n",
        "import matplotlib\n",
        "import matplotlib.pyplot as plt\n",
        "import matplotlib.animation as animation\n",
        "plt.rcParams[\"animation.html\"] = \"jshtml\"\n",
        "matplotlib.rcParams['animation.embed_limit'] = 2**128\n",
        "\n",
        "# Librerias para manejar operaciones numericas.\n",
        "import numpy as np\n",
        "import pandas as pd\n",
        "import random\n",
        "# librerias para obtener el tiempo de ejecucion.\n",
        "import time\n",
        "import datetime"
      ]
    },
    {
      "source": [
        "## Crear el modelo"
      ],
      "cell_type": "markdown",
      "metadata": {}
    },
    {
      "cell_type": "code",
      "execution_count": 82,
      "metadata": {},
      "outputs": [],
      "source": [
        "def obtener_habitacion(model):\n",
        "    habitacion = np.zeros((model.grid.width, model.grid.height))\n",
        "    for celda in model.grid.coord_iter():\n",
        "        contenido_celda, x, y = celda\n",
        "        for contenido in contenido_celda:\n",
        "            if isinstance(contenido, Aspiradora):\n",
        "                habitacion[x][y] = 2\n",
        "            else:\n",
        "                habitacion[x][y] = contenido.estado\n",
        "    return habitacion\n",
        "    # grid = np.zeros((model.grid.width, model.grid.height))\n",
        "    # for cell in model.grid.coord_iter():\n",
        "    #     cell_content, x, y = cell\n",
        "    #     grid[x][y] = cell_content.live\n",
        "    # return grid\n",
        "\n",
        "\n",
        "class Aspiradora(Agent):\n",
        "    '''\n",
        "    Agente Aspiradira que limpia el suelo\n",
        "    '''\n",
        "    def __init__(self,unique_id,model):\n",
        "        super().__init__(unique_id, model)\n",
        "\n",
        "    '''\n",
        "    Moviemto\n",
        "    '''\n",
        "    def move(self):\n",
        "        possible_steps = self.model.grid.get_neighborhood(\n",
        "            self.pos,\n",
        "            moore=False,\n",
        "            include_center=False)\n",
        "        new_position = self.random.choice(possible_steps)\n",
        "        self.model.grid.move_agent(self, new_position)\n",
        "    \n",
        "    '''\n",
        "    Metodo para activar el movimiento y impiar el suelo\n",
        "    '''\n",
        "    def step(self):\n",
        "        self.move()\n",
        "\n",
        "\n",
        "class LimpiezaModel(Model):\n",
        "    \"\"\"A model with some number of agents.\"\"\"\n",
        "    def __init__(self, N, width, height):\n",
        "        self.num_agents = N\n",
        "        self.grid = MultiGrid(width, height, True)\n",
        "        self.schedule = RandomActivation(self)\n",
        "        # Create agents\n",
        "        for i in range(self.num_agents):\n",
        "            a = Aspiradora(i, self)\n",
        "            self.schedule.add(a)\n",
        "            # Add the agent to a random grid cell\n",
        "            x = self.random.randrange(self.grid.width)\n",
        "            y = self.random.randrange(self.grid.height)\n",
        "            self.grid.place_agent(a, (x, y))\n",
        "\n",
        "    # Aquí definimos con colector para obtener el grid completo.\n",
        "        self.datacollector = DataCollector(\n",
        "            model_reporters={\"Grid\": obtener_habitacion})\n",
        "    \n",
        "    def step(self):\n",
        "        self.datacollector.collect(self)\n",
        "        self.schedule.step()"
      ]
    },
    {
      "source": [
        "## Tiempo de ejecucion"
      ],
      "cell_type": "markdown",
      "metadata": {}
    },
    {
      "cell_type": "code",
      "execution_count": 83,
      "metadata": {},
      "outputs": [
        {
          "output_type": "stream",
          "name": "stdout",
          "text": [
            "Tiempo de ejecución: 0:00:05.000733\n"
          ]
        }
      ],
      "source": [
        "''' Max_Time = 1\n",
        "tiempo_init = str(datetime.timedelta(seconds=Max_Time))\n",
        "model = LimpiarSuciedad(10,10,6,1)\n",
        "while((time.time()-start_time) < Max_Time):\n",
        "    model.step()\n",
        "\n",
        "print('Tiempo de ejecución:', str(datetime.timedelta(seconds=(time.time() - start_time)))) '''\n",
        "\n",
        "# Definimos el tamaño del Grid\n",
        "GRID_SIZE = 10\n",
        "\n",
        "# Definimos el tiempo maximo del modelo\n",
        "MAX_TIME = 5\n",
        "\n",
        "start_time = time.time()\n",
        "step_num = 0\n",
        "modelo = LimpiezaModel(1,GRID_SIZE,GRID_SIZE)\n",
        "while((time.time()-start_time) < MAX_TIME):\n",
        "    modelo.step()\n",
        "    step_num += 1\n",
        "\n",
        "#Imprimimos el tiempo de ejecucion\n",
        "print('Tiempo de ejecución:', str(datetime.timedelta(seconds=(time.time() - start_time))))"
      ]
    },
    {
      "source": [
        "## Graficar"
      ],
      "cell_type": "markdown",
      "metadata": {}
    },
    {
      "cell_type": "code",
      "execution_count": 84,
      "metadata": {},
      "outputs": [
        {
          "output_type": "display_data",
          "data": {
            "text/plain": "<Figure size 504x504 with 1 Axes>",
            "image/svg+xml": "<?xml version=\"1.0\" encoding=\"utf-8\" standalone=\"no\"?>\r\n<!DOCTYPE svg PUBLIC \"-//W3C//DTD SVG 1.1//EN\"\r\n  \"http://www.w3.org/Graphics/SVG/1.1/DTD/svg11.dtd\">\r\n<svg height=\"398.42pt\" version=\"1.1\" viewBox=\"0 0 398.42 398.42\" width=\"398.42pt\" xmlns=\"http://www.w3.org/2000/svg\" xmlns:xlink=\"http://www.w3.org/1999/xlink\">\r\n <metadata>\r\n  <rdf:RDF xmlns:cc=\"http://creativecommons.org/ns#\" xmlns:dc=\"http://purl.org/dc/elements/1.1/\" xmlns:rdf=\"http://www.w3.org/1999/02/22-rdf-syntax-ns#\">\r\n   <cc:Work>\r\n    <dc:type rdf:resource=\"http://purl.org/dc/dcmitype/StillImage\"/>\r\n    <dc:date>2021-08-16T21:20:06.064429</dc:date>\r\n    <dc:format>image/svg+xml</dc:format>\r\n    <dc:creator>\r\n     <cc:Agent>\r\n      <dc:title>Matplotlib v3.4.2, https://matplotlib.org/</dc:title>\r\n     </cc:Agent>\r\n    </dc:creator>\r\n   </cc:Work>\r\n  </rdf:RDF>\r\n </metadata>\r\n <defs>\r\n  <style type=\"text/css\">*{stroke-linecap:butt;stroke-linejoin:round;}</style>\r\n </defs>\r\n <g id=\"figure_1\">\r\n  <g id=\"patch_1\">\r\n   <path d=\"M 0 398.42 \r\nL 398.42 398.42 \r\nL 398.42 0 \r\nL 0 0 \r\nz\r\n\" style=\"fill:none;\"/>\r\n  </g>\r\n  <g id=\"axes_1\">\r\n   <g id=\"patch_2\">\r\n    <path d=\"M 10.7 387.72 \r\nL 391.22 387.72 \r\nL 391.22 7.2 \r\nL 10.7 7.2 \r\nz\r\n\" style=\"fill:#ffffff;\"/>\r\n   </g>\r\n   <g clip-path=\"url(#p02216a2d29)\">\r\n    <image height=\"381\" id=\"imagef71a3d279d\" transform=\"scale(1 -1)translate(0 -381)\" width=\"381\" x=\"10.7\" xlink:href=\"data:image/png;base64,\r\niVBORw0KGgoAAAANSUhEUgAAAX0AAAF9CAYAAADoebhRAAAFZElEQVR4nO3WwQ2DQBAEQZ9F/ikvEfBlJboqgnm15szM/ABI+G8PAOA9og8QIvoAIaIPECL6ACGiDxAi+gAhog8QIvoAIaIPECL6ACGiDxAi+gAhog8QIvoAIaIPECL6ACGiDxAi+gAhog8QIvoAIaIPECL6ACGiDxAi+gAhog8QIvoAIaIPECL6ACGiDxAi+gAhog8QIvoAIaIPECL6ACGiDxAi+gAhog8QIvoAIaIPECL6ACGiDxAi+gAhog8QIvoAIaIPECL6ACGiDxAi+gAhog8QIvoAIaIPECL6ACGiDxAi+gAhog8QIvoAIaIPECL6ACGiDxAi+gAhog8QIvoAIaIPECL6ACGiDxAi+gAhog8QIvoAIaIPECL6ACGiDxAi+gAhog8QIvoAIaIPECL6ACGiDxAi+gAhog8QIvoAIaIPECL6ACGiDxAi+gAhog8QIvoAIaIPECL6ACGiDxAi+gAhog8QIvoAIaIPECL6ACGiDxAi+gAhog8QIvoAIaIPECL6ACGiDxAi+gAhog8QIvoAIaIPECL6ACGiDxAi+gAhog8QIvoAIaIPECL6ACGiDxAi+gAhog8QIvoAIaIPECL6ACGiDxAi+gAhog8QIvoAIaIPECL6ACGiDxAi+gAhog8QIvoAIaIPECL6ACGiDxAi+gAhog8QIvoAIaIPECL6ACGiDxAi+gAhog8QIvoAIaIPECL6ACGiDxAi+gAhog8QIvoAIaIPECL6ACGiDxAi+gAhog8QIvoAIaIPECL6ACGiDxAi+gAhog8QIvoAIaIPECL6ACGiDxAi+gAhog8QIvoAIaIPECL6ACGiDxAi+gAhog8QIvoAIaIPECL6ACGiDxAi+gAhog8QIvoAIaIPECL6ACGiDxAi+gAhog8QIvoAIaIPECL6ACGiDxAi+gAhog8QIvoAIaIPECL6ACGiDxAi+gAhog8QIvoAIaIPECL6ACGiDxAi+gAhog8QIvoAIaIPECL6ACGiDxAi+gAhog8QIvoAIaIPECL6ACGiDxAi+gAhog8QIvoAIaIPECL6ACGiDxAi+gAhog8QIvoAIaIPECL6ACGiDxAi+gAhog8QIvoAIaIPECL6ACGiDxAi+gAhog8QIvoAIaIPECL6ACGiDxAi+gAhog8QIvoAIaIPECL6ACGiDxAi+gAhog8QIvoAIaIPECL6ACGiDxAi+gAhog8QIvoAIaIPECL6ACGiDxAi+gAhog8QIvoAIaIPECL6ACGiDxAi+gAhog8QIvoAIaIPECL6ACGiDxAi+gAhog8QIvoAIaIPECL6ACGiDxAi+gAhog8QIvoAIaIPECL6ACGiDxAi+gAhog8QIvoAIaIPECL6ACGiDxAi+gAhog8QIvoAIaIPECL6ACGiDxAi+gAhog8QIvoAIaIPECL6ACGiDxAi+gAhog8QIvoAIaIPECL6ACGiDxAi+gAhog8QIvoAIaIPECL6ACGiDxAi+gAhog8QIvoAIaIPECL6ACGiDxAi+gAhog8QIvoAIaIPECL6ACGiDxAi+gAhog8QIvoAIaIPECL6ACGiDxAi+gAhog8QIvoAIaIPECL6ACGiDxAi+gAhog8QIvoAIaIPECL6ACGiDxAi+gAhog8QIvoAIaIPECL6ACGiDxBybQ+ADeec7QmPZmZ7Ah/m6QOEiD5AiOgDhIg+QIjoA4SIPkCI6AOEiD5AiOgDhIg+QIjoA4SIPkCI6AOEiD5AiOgDhIg+QIjoA4SIPkCI6AOEiD5AiOgDhIg+QIjoA4SIPkCI6AOEiD5AiOgDhIg+QIjoA4SIPkCI6AOEiD5AiOgDhIg+QIjoA4SIPkCI6AOE3NgGCfgw//xjAAAAAElFTkSuQmCC\" y=\"-6.72\"/>\r\n   </g>\r\n   <g id=\"matplotlib.axis_1\"/>\r\n   <g id=\"matplotlib.axis_2\"/>\r\n   <g id=\"patch_3\">\r\n    <path d=\"M 10.7 387.72 \r\nL 10.7 7.2 \r\n\" style=\"fill:none;stroke:#000000;stroke-linecap:square;stroke-linejoin:miter;stroke-width:0.8;\"/>\r\n   </g>\r\n   <g id=\"patch_4\">\r\n    <path d=\"M 391.22 387.72 \r\nL 391.22 7.2 \r\n\" style=\"fill:none;stroke:#000000;stroke-linecap:square;stroke-linejoin:miter;stroke-width:0.8;\"/>\r\n   </g>\r\n   <g id=\"patch_5\">\r\n    <path d=\"M 10.7 387.72 \r\nL 391.22 387.72 \r\n\" style=\"fill:none;stroke:#000000;stroke-linecap:square;stroke-linejoin:miter;stroke-width:0.8;\"/>\r\n   </g>\r\n   <g id=\"patch_6\">\r\n    <path d=\"M 10.7 7.2 \r\nL 391.22 7.2 \r\n\" style=\"fill:none;stroke:#000000;stroke-linecap:square;stroke-linejoin:miter;stroke-width:0.8;\"/>\r\n   </g>\r\n  </g>\r\n </g>\r\n <defs>\r\n  <clipPath id=\"p02216a2d29\">\r\n   <rect height=\"380.52\" width=\"380.52\" x=\"10.7\" y=\"7.2\"/>\r\n  </clipPath>\r\n </defs>\r\n</svg>\r\n",
            "image/png": "[encoded data removed]"
          },
          "metadata": {}
        }
      ],
      "source": [
        "all_grid = modelo.datacollector.get_model_vars_dataframe()\n",
        "\n",
        "# %%capture\n",
        "\n",
        "fig, axs = plt.subplots(figsize=(7,7))\n",
        "axs.set_xticks([])\n",
        "axs.set_yticks([])\n",
        "patch = plt.imshow(all_grid.iloc[0][0], cmap=plt.cm.binary)\n",
        "\n",
        "def animate(i):\n",
        "    patch.set_data(all_grid.iloc[i][0])\n",
        "    \n",
        "anim = animation.FuncAnimation(fig, animate, frames=step_num)"
      ]
    },
    {
      "cell_type": "code",
      "execution_count": null,
      "metadata": {},
      "outputs": [],
      "source": [
        "anim"
      ]
    }
  ]
}