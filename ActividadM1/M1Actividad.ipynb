{
  "nbformat": 4,
  "nbformat_minor": 0,
  "metadata": {
    "colab": {
      "name": "ActividadM1.ipynb",
      "provenance": []
    },
    "kernelspec": {
      "name": "python3",
      "display_name": "Python 3.7.4 32-bit"
    },
    "language_info": {
      "name": "python",
      "version": "3.7.4"
    },
    "interpreter": {
      "hash": "cc2848dddffbbdd40c4d693d1733185ba34491557e5a616eea598abda57a753d"
    }
  },
  "cells": [
    {
      "cell_type": "markdown",
      "metadata": {
        "id": "4SxYi7pJjhLM"
      },
      "source": [
        "## Luis Omar Leyva Navarrete - A01570367"
      ]
    },
    {
      "source": [
        "# Instrucciones\n",
        "### Dado:\n",
        "\n",
        "* Habitación de MxN espacios.\n",
        "* Número de agentes.\n",
        "* Porcentaje de celdas inicialmente sucias.\n",
        "* Tiempo máximo de ejecución.\n",
        "\n",
        "### Realiza la siguiente simulación:\n",
        "* Inicializa las celdas sucias (ubicaciones aleatorias).\n",
        "* Todos los agentes empiezan en la celda [1,1].\n",
        "* En cada paso de tiempo:\n",
        "  * Si la celda está sucia, entonces aspira.\n",
        "  * Si la celda está limpia, el agente elije una dirección aleatoria para moverse (unas de las 8 celdas vecinas) y elije la acción de movimiento (si no puede moverse allí, permanecerá en la misma celda).\n",
        "* Se ejecuta el tiempo máximo establecido.\n",
        "\n",
        "### Deberás recopilar la siguiente información durante la ejecución:\n",
        "* Tiempo necesario hasta que todas las celdas estén limpias (o se haya llegado al tiempo máximo).\n",
        "* Porcentaje de celdas limpias después del termino de la simulación.\n",
        "* Número de movimientos realizados por todos los agentes.\n",
        "* Analiza cómo la cantidad de agentes impacta el tiempo dedicado, así como la cantidad de movimientos realizados. Desarrollar un informe con lo observado."
      ],
      "cell_type": "markdown",
      "metadata": {
        "id": "PuTK-G3eLAK5"
      }
    },
    {
      "cell_type": "markdown",
      "metadata": {
        "id": "QF48wQl8NPVH"
      },
      "source": [
        "## Imports\n",
        "Se utilizaran los siguientes paquetes de python\n",
        "- `python`: asegúrense de usar la versión 3+.\n",
        "- `mesa`: el framework de Python para el modelado de agentes.\n",
        "- `numpy`: es una biblioteca de Python para el manejo de matrices, arreglos, manipulación matemática, lógica y mucho más.\n",
        "- `matplotlib`: es una biblioteca para crear visualizaciones estáticas, animadas e interactivas en Python.\n",
        "\n",
        "Para instalar mesa hay que hay que utilizar el siguiente comando:"
      ]
    },
    {
      "cell_type": "code",
      "metadata": {
        "id": "0h6jZDLHuPzM"
      },
      "source": [
        "!pip install mesa"
      ],
      "execution_count": null,
      "outputs": []
    },
    {
      "source": [
        "Ahora importamos las librerias y funciones a utilizar."
      ],
      "cell_type": "markdown",
      "metadata": {
        "id": "AOweuHEvub7D"
      }
    },
    {
      "cell_type": "code",
      "execution_count": null,
      "metadata": {},
      "outputs": [],
      "source": [
        "# Importamos las clases para manejar el modelo y agente.\n",
        "from mesa import Agent, Model \n",
        "\n",
        "# Utilizamos Multigrid para poder manejar varios agentes.\n",
        "from mesa.space import MultiGrid\n",
        "\n",
        "# Activamos a todos los agentes a la vez.\n",
        "from mesa.time import RandomActivation\n",
        "\n",
        "# Obtenemos la información completa del grid para poder graficarlo.\n",
        "from mesa.datacollection import DataCollector\n",
        "\n",
        "# Esta libreria se utilizara en conjunto con data collector para graficar el grid.\n",
        "%matplotlib inline\n",
        "import matplotlib\n",
        "import matplotlib.pyplot as plt\n",
        "import matplotlib.animation as animation\n",
        "plt.rcParams[\"animation.html\"] = \"jshtml\"\n",
        "matplotlib.rcParams['animation.embed_limit'] = 2**128\n",
        "\n",
        "# Librerias para manejar operaciones numericas.\n",
        "import numpy as np\n",
        "import pandas as pd\n",
        "import random\n",
        "# librerias para obtener el tiempo de ejecucion.\n",
        "import time\n",
        "import datetime"
      ]
    },
    {
      "source": [
        "## Crear el modelo"
      ],
      "cell_type": "markdown",
      "metadata": {}
    },
    {
      "cell_type": "code",
      "execution_count": null,
      "metadata": {},
      "outputs": [],
      "source": [
        "def obtener_habitacion(model):\n",
        "    habitacion = np.zeros((model.grid.width, model.grid.height))\n",
        "    for celda in model.grid.coord_iter():\n",
        "        contenido_celda, x, y = celda\n",
        "        for contenido in contenido_celda:\n",
        "            if isinstance(contenido, Aspiradora):\n",
        "                habitacion[x][y] = 2\n",
        "            else:\n",
        "                habitacion[x][y] = contenido.estado\n",
        "    return habitacion\n",
        "\n",
        "class Aspiradora(Agent):\n",
        "    '''\n",
        "    Agente Aspiradira que limpia el suelo\n",
        "    '''\n",
        "    def __init__(self,unique_id,model):\n",
        "        super().__init__(unique_id, model)\n",
        "        self.estado = 3 # Estado de aspiradora\n",
        "\n",
        "    '''\n",
        "    Moviemto\n",
        "    '''\n",
        "    def move(self):\n",
        "        possible_steps = self.model.grid.get_neighborhood(\n",
        "            self.pos,\n",
        "            moore=False,\n",
        "            include_center=False)\n",
        "        new_position = self.random.choice(possible_steps)\n",
        "        self.model.grid.move_agent(self, new_position)\n",
        "    \n",
        "    '''\n",
        "    Metodo para activar el movimiento y impiar el suelo\n",
        "    '''\n",
        "\n",
        "    def limpiarPiso(self):\n",
        "        cellmates = self.model.grid.get_cell_list_contents([self.pos])\n",
        "        if len(cellmates) > 1:\n",
        "            for mate in cellmates:\n",
        "                if mate.estado == 1:\n",
        "                    mate.estado = 0\n",
        "                    self.model.restante -= 1\n",
        "\n",
        "    def step(self):\n",
        "        self.limpiarPiso()\n",
        "        self.move()\n",
        "\n",
        "class Suciedad(Agent):\n",
        "    '''\n",
        "    Agente de suciedad\n",
        "    '''\n",
        "    def __init__(self,unique_id,model):\n",
        "        super().__init__(unique_id, model)\n",
        "        self.estado = 1 #Decimos que esta sucio\n",
        "\n",
        "    def step(self):\n",
        "        if self.estado == 0:\n",
        "            self.model.grid._remove_agent(self.pos, self)\n",
        "            self.model.schedule.remove(self)\n",
        "\n",
        "\n",
        "class LimpiezaModel(Model):\n",
        "    \"\"\"A model with some number of agents.\"\"\"\n",
        "    def __init__(self, N, M, width, height):\n",
        "        self.aspiradoras = N\n",
        "        self.suciedades = M\n",
        "        self.restante = M\n",
        "        self.grid = MultiGrid(width, height, False)\n",
        "        self.schedule = RandomActivation(self)\n",
        "        # Create agents\n",
        "        for i in range(self.aspiradoras):\n",
        "            a = Aspiradora(i, self)\n",
        "            self.schedule.add(a)\n",
        "            # Add the agent to a random grid cell\n",
        "            x = self.random.randrange(self.grid.width)\n",
        "            y = self.random.randrange(self.grid.height)\n",
        "            self.grid.place_agent(a, (x, y))\n",
        "\n",
        "        for i in range(self.suciedades):\n",
        "            a = Suciedad(i+M, self)\n",
        "            self.schedule.add(a)\n",
        "            # Add the agent to a random grid cell\n",
        "            x = self.random.randrange(self.grid.width)\n",
        "            y = self.random.randrange(self.grid.height)\n",
        "            self.grid.place_agent(a, (x, y))\n",
        "\n",
        "    # Aquí definimos con colector para obtener el grid completo.\n",
        "        self.datacollector = DataCollector(\n",
        "            model_reporters={\"Grid\": obtener_habitacion})\n",
        "    \n",
        "    def step(self):\n",
        "        self.datacollector.collect(self)\n",
        "        self.schedule.step()"
      ]
    },
    {
      "source": [
        "## Tiempo de ejecucion"
      ],
      "cell_type": "markdown",
      "metadata": {}
    },
    {
      "cell_type": "code",
      "execution_count": null,
      "metadata": {},
      "outputs": [],
      "source": [
        "# Definimos el tamaño del Grid\n",
        "GRID_SIZE = 10\n",
        "\n",
        "# Definimos el tiempo maximo del modelo\n",
        "MAX_TIME = 0.01\n",
        "\n",
        "#Definimos la cantidad de celdas sucias\n",
        "CELDAS_SUCIAS = 40\n",
        "\n",
        "#definimos la cantidad de aspiradoras\n",
        "ASPIRADORAS = 5\n",
        "\n",
        "start_time = time.time()\n",
        "step_num = 0\n",
        "restantes = CELDAS_SUCIAS\n",
        "modelo = LimpiezaModel(ASPIRADORAS, CELDAS_SUCIAS, GRID_SIZE, GRID_SIZE)\n",
        "while time.time()-start_time <= MAX_TIME:\n",
        "    modelo.step()\n",
        "    step_num += 1\n",
        "    if modelo.restante < 1:\n",
        "        break\n",
        "final_time = time.time()\n"
      ]
    },
    {
      "source": [
        "## Graficar"
      ],
      "cell_type": "markdown",
      "metadata": {}
    },
    {
      "cell_type": "code",
      "execution_count": null,
      "metadata": {},
      "outputs": [],
      "source": [
        "all_grid = modelo.datacollector.get_model_vars_dataframe()\n",
        "\n",
        "# %%capture\n",
        "\n",
        "fig, axs = plt.subplots(figsize=(7,7))\n",
        "axs.set_xticks([])\n",
        "axs.set_yticks([])\n",
        "patch = plt.imshow(all_grid.iloc[0][0], cmap=plt.cm.binary)\n",
        "\n",
        "def animate(i):\n",
        "    patch.set_data(all_grid.iloc[i][0])\n",
        "    \n",
        "anim = animation.FuncAnimation(fig, animate, frames=step_num)"
      ]
    },
    {
      "cell_type": "code",
      "execution_count": null,
      "metadata": {},
      "outputs": [],
      "source": [
        "anim"
      ]
    },
    {
      "source": [
        "## Resultados\n",
        "Deberás recopilar la siguiente información durante la ejecución:\n",
        "\n",
        "* Tiempo necesario hasta que todas las celdas estén limpias (o se haya llegado al tiempo máximo).\n",
        "* Porcentaje de celdas limpias después del termino de la simulación.\n",
        "* Número de movimientos realizados por todos los agentes."
      ],
      "cell_type": "markdown",
      "metadata": {}
    },
    {
      "cell_type": "code",
      "execution_count": null,
      "metadata": {},
      "outputs": [],
      "source": [
        "#Imprimimos el tiempo de ejecucion\n",
        "print('Tiempo de ejecución:', str(datetime.timedelta(seconds=(final_time - start_time))))\n",
        "\n",
        "#Porcentaje de celdas limpias al inicio y final. (El porcentaje se calcula entorno a las celdas sucias totales en comparacion con las limpias. Tambien se despliega el porcentaje de suciedad inicial)\n",
        "print('Porcentaje inicial de suciedad:', str((CELDAS_SUCIAS / (GRID_SIZE * GRID_SIZE)) * 100), '%')\n",
        "print('Porcentaje final de suciedad:', str((modelo.restante / (GRID_SIZE * GRID_SIZE)) * 100), '%')\n",
        "\n",
        "#numero de movimientos o steps\n",
        "print('Cantidad de movimientos:', step_num)"
      ]
    },
    {
      "source": [
        "## Analisis\n",
        "\n",
        "La cantidad de agentes afecta el tiempo de ejecucion del modelo, pero dependiendo del tipo de agente el tiempo aumenta o disminuye. En este caso al aumentar los agentes de aspiradora el tiempo disminuye exponencialmente debido a que cubren mas espacio. Mientras que aumentar el piso sucio siempre aumenta la cantidad de tiempo necesario para la ejecucion. Aunque el aumento de tiempo no se puede determinar especificamente debido a que el movimiento de la aspiradora es aleatoria."
      ],
      "cell_type": "markdown",
      "metadata": {}
    }
  ]
}