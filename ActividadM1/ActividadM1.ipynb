{
  "nbformat": 4,
  "nbformat_minor": 0,
  "metadata": {
    "colab": {
      "name": "ActividadM1.ipynb",
      "provenance": []
    },
    "kernelspec": {
      "name": "python3",
      "display_name": "Python 3.9.1 64-bit"
    },
    "language_info": {
      "name": "python",
      "version": "3.9.1"
    },
    "interpreter": {
      "hash": "f1693c08d5757864b8fe326e66d9018a045f85b236531333a57364fe1514dd1b"
    }
  },
  "cells": [
    {
      "cell_type": "markdown",
      "metadata": {
        "id": "4SxYi7pJjhLM"
      },
      "source": [
        "## Luis Omar Leyva Navarrete - A01570367"
      ]
    },
    {
      "source": [
        "# Instrucciones\n",
        "### Dado:\n",
        "\n",
        "* Habitación de MxN espacios.\n",
        "* Número de agentes.\n",
        "* Porcentaje de celdas inicialmente sucias.\n",
        "* Tiempo máximo de ejecución.\n",
        "\n",
        "### Realiza la siguiente simulación:\n",
        "* Inicializa las celdas sucias (ubicaciones aleatorias).\n",
        "* Todos los agentes empiezan en la celda [1,1].\n",
        "* En cada paso de tiempo:\n",
        "  * Si la celda está sucia, entonces aspira.\n",
        "  * Si la celda está limpia, el agente elije una dirección aleatoria para moverse (unas de las 8 celdas vecinas) y elije la acción de movimiento (si no puede moverse allí, permanecerá en la misma celda).\n",
        "* Se ejecuta el tiempo máximo establecido.\n",
        "\n",
        "### Deberás recopilar la siguiente información durante la ejecución:\n",
        "* Tiempo necesario hasta que todas las celdas estén limpias (o se haya llegado al tiempo máximo).\n",
        "* Porcentaje de celdas limpias después del termino de la simulación.\n",
        "* Número de movimientos realizados por todos los agentes.\n",
        "* Analiza cómo la cantidad de agentes impacta el tiempo dedicado, así como la cantidad de movimientos realizados. Desarrollar un informe con lo observado."
      ],
      "cell_type": "markdown",
      "metadata": {
        "id": "PuTK-G3eLAK5"
      }
    },
    {
      "cell_type": "markdown",
      "metadata": {
        "id": "QF48wQl8NPVH"
      },
      "source": [
        "## Imports\n",
        "Se utilizaran los siguientes paquetes de python\n",
        "- `python`: asegúrense de usar la versión 3+.\n",
        "- `mesa`: el framework de Python para el modelado de agentes.\n",
        "- `numpy`: es una biblioteca de Python para el manejo de matrices, arreglos, manipulación matemática, lógica y mucho más.\n",
        "- `matplotlib`: es una biblioteca para crear visualizaciones estáticas, animadas e interactivas en Python.\n",
        "\n",
        "Para instalar mesa hay que hay que utilizar el siguiente comando:"
      ]
    },
    {
      "cell_type": "code",
      "metadata": {
        "id": "0h6jZDLHuPzM"
      },
      "source": [
        "!pip install mesa"
      ],
      "execution_count": 1,
      "outputs": [
        {
          "output_type": "stream",
          "name": "stdout",
          "text": [
            "Requirement already satisfied: mesa in c:\\users\\luis\\appdata\\local\\programs\\python\\python39\\lib\\site-packages (0.8.9)\nRequirement already satisfied: pandas in c:\\users\\luis\\appdata\\local\\programs\\python\\python39\\lib\\site-packages (from mesa) (1.3.1)\nRequirement already satisfied: click in c:\\users\\luis\\appdata\\local\\programs\\python\\python39\\lib\\site-packages (from mesa) (8.0.1)\nRequirement already satisfied: tqdm in c:\\users\\luis\\appdata\\local\\programs\\python\\python39\\lib\\site-packages (from mesa) (4.62.0)\nRequirement already satisfied: networkx in c:\\users\\luis\\appdata\\local\\programs\\python\\python39\\lib\\site-packages (from mesa) (2.6.2)\nRequirement already satisfied: tornado in c:\\users\\luis\\appdata\\local\\programs\\python\\python39\\lib\\site-packages (from mesa) (6.1)\nRequirement already satisfied: numpy in c:\\users\\luis\\appdata\\local\\programs\\python\\python39\\lib\\site-packages (from mesa) (1.21.1)\nRequirement already satisfied: cookiecutter in c:\\users\\luis\\appdata\\local\\programs\\python\\python39\\lib\\site-packages (from mesa) (1.7.3)\nRequirement already satisfied: colorama in c:\\users\\luis\\appdata\\local\\programs\\python\\python39\\lib\\site-packages (from click->mesa) (0.4.4)\nRequirement already satisfied: binaryornot>=0.4.4 in c:\\users\\luis\\appdata\\local\\programs\\python\\python39\\lib\\site-packages (from cookiecutter->mesa) (0.4.4)\nRequirement already satisfied: jinja2-time>=0.2.0 in c:\\users\\luis\\appdata\\local\\programs\\python\\python39\\lib\\site-packages (from cookiecutter->mesa) (0.2.0)\nRequirement already satisfied: six>=1.10 in c:\\users\\luis\\appdata\\local\\programs\\python\\python39\\lib\\site-packages (from cookiecutter->mesa) (1.16.0)\nRequirement already satisfied: python-slugify>=4.0.0 in c:\\users\\luis\\appdata\\local\\programs\\python\\python39\\lib\\site-packages (from cookiecutter->mesa) (5.0.2)\nRequirement already satisfied: requests>=2.23.0 in c:\\users\\luis\\appdata\\local\\programs\\python\\python39\\lib\\site-packages (from cookiecutter->mesa) (2.26.0)\nRequirement already satisfied: poyo>=0.5.0 in c:\\users\\luis\\appdata\\local\\programs\\python\\python39\\lib\\site-packages (from cookiecutter->mesa) (0.5.0)\nRequirement already satisfied: Jinja2<4.0.0,>=2.7 in c:\\users\\luis\\appdata\\local\\programs\\python\\python39\\lib\\site-packages (from cookiecutter->mesa) (3.0.1)\nRequirement already satisfied: chardet>=3.0.2 in c:\\users\\luis\\appdata\\local\\programs\\python\\python39\\lib\\site-packages (from binaryornot>=0.4.4->cookiecutter->mesa) (4.0.0)\nRequirement already satisfied: MarkupSafe>=2.0 in c:\\users\\luis\\appdata\\local\\programs\\python\\python39\\lib\\site-packages (from Jinja2<4.0.0,>=2.7->cookiecutter->mesa) (2.0.1)\nRequirement already satisfied: arrow in c:\\users\\luis\\appdata\\local\\programs\\python\\python39\\lib\\site-packages (from jinja2-time>=0.2.0->cookiecutter->mesa) (1.1.1)\nRequirement already satisfied: text-unidecode>=1.3 in c:\\users\\luis\\appdata\\local\\programs\\python\\python39\\lib\\site-packages (from python-slugify>=4.0.0->cookiecutter->mesa) (1.3)\nRequirement already satisfied: charset-normalizer~=2.0.0 in c:\\users\\luis\\appdata\\local\\programs\\python\\python39\\lib\\site-packages (from requests>=2.23.0->cookiecutter->mesa) (2.0.4)\nRequirement already satisfied: certifi>=2017.4.17 in c:\\users\\luis\\appdata\\local\\programs\\python\\python39\\lib\\site-packages (from requests>=2.23.0->cookiecutter->mesa) (2021.5.30)\nRequirement already satisfied: idna<4,>=2.5 in c:\\users\\luis\\appdata\\local\\programs\\python\\python39\\lib\\site-packages (from requests>=2.23.0->cookiecutter->mesa) (3.2)\nRequirement already satisfied: urllib3<1.27,>=1.21.1 in c:\\users\\luis\\appdata\\local\\programs\\python\\python39\\lib\\site-packages (from requests>=2.23.0->cookiecutter->mesa) (1.26.6)\nRequirement already satisfied: python-dateutil>=2.7.0 in c:\\users\\luis\\appdata\\local\\programs\\python\\python39\\lib\\site-packages (from arrow->jinja2-time>=0.2.0->cookiecutter->mesa) (2.8.2)\nRequirement already satisfied: pytz>=2017.3 in c:\\users\\luis\\appdata\\local\\programs\\python\\python39\\lib\\site-packages (from pandas->mesa) (2021.1)\n"
          ]
        }
      ]
    },
    {
      "source": [
        "Ahora importamos las librerias y funciones a utilizar."
      ],
      "cell_type": "markdown",
      "metadata": {
        "id": "AOweuHEvub7D"
      }
    },
    {
      "cell_type": "code",
      "execution_count": 2,
      "metadata": {},
      "outputs": [],
      "source": [
        "# Importamos las clases para manejar el modelo y agente.\n",
        "from mesa import Agent, Model \n",
        "\n",
        "# Utilizamos Multigrid para poder manejar varios agentes.\n",
        "from mesa.space import MultiGrid\n",
        "\n",
        "# Activamos a todos los agentes a la vez.\n",
        "from mesa.time import SimultaneousActivation\n",
        "\n",
        "# Obtenemos la información completa del grid para poder graficarlo.\n",
        "from mesa.datacollection import DataCollector\n",
        "\n",
        "# Esta libreria se utilizara en conjunto con data collector para graficar el grid.\n",
        "%matplotlib inline\n",
        "import matplotlib\n",
        "import matplotlib.pyplot as plt\n",
        "import matplotlib.animation as animation\n",
        "plt.rcParams[\"animation.html\"] = \"jshtml\"\n",
        "matplotlib.rcParams['animation.embed_limit'] = 2**128\n",
        "\n",
        "# Librerias para manejar operaciones numericas.\n",
        "import numpy as np\n",
        "import pandas as pd\n",
        "import random\n",
        "# librerias para obtener el tiempo de ejecucion.\n",
        "import time\n",
        "import datetime"
      ]
    },
    {
      "cell_type": "code",
      "execution_count": null,
      "metadata": {},
      "outputs": [],
      "source": []
    },
    {
      "cell_type": "code",
      "execution_count": 3,
      "metadata": {},
      "outputs": [],
      "source": [
        "def obtener_habitacion(model):\n",
        "    habitacion = np.zeros((model.grid.width, model.grid.height))\n",
        "    for celda in model.grid.coord_iter():\n",
        "        contenido_celda, x, y = celda\n",
        "        for contenido in contenido_celda:\n",
        "            if isinstance(contenido, Aspiradora):\n",
        "                habitacion[x][y] = 2\n",
        "            else:\n",
        "                habitacion[x][y] = contenido.estado\n",
        "    return habitacion\n",
        "\n",
        "class Movement(Agent):\n",
        "    '''\n",
        "    Clase para los movimientos de la aspiradora\n",
        "    '''\n",
        "    \n",
        "    grid = None\n",
        "    x = None\n",
        "    y = None\n",
        "    moore = False\n",
        "\n",
        "    def __init__(self, pos, model, moore=False):\n",
        "        super().__init__(pos, model)\n",
        "        self.pos = pos\n",
        "        self.moore = moore\n",
        "\n",
        "    def random_move(self):\n",
        "        '''\n",
        "        Mover la aspiradora en cualquier direccion\n",
        "        '''\n",
        "        # Pick the next cell from the adjacent cells.\n",
        "        next_moves = self.model.grid.get_neighborhood(self.pos, self.moore, True)\n",
        "        next_move = random.choice(next_moves)\n",
        "        # Now move:\n",
        "        self.model.grid.move_agent(self, next_move)\n",
        "\n",
        "class Suciedad(Agent):\n",
        "    def __init__(self, pos, model):\n",
        "        self.pos = pos\n",
        "\n",
        "class Aspiradora(Movement):\n",
        "    '''\n",
        "    Agente que limpia el suelo\n",
        "    '''\n",
        "\n",
        "    def __init__(self, pos, model):\n",
        "        super().__init__(pos, model)\n",
        "\n",
        "    def step(self):\n",
        "        self.random_move()\n",
        "\n",
        "        # limpiar suciedad\n",
        "        x, y = self.pos\n",
        "        this_cell = self.model.grid.get_cell_list_contents([self.pos])\n",
        "        sucio = [obj for obj in this_cell if isinstance(obj, Sheep)]\n",
        "        if len(sucio) > 0:\n",
        "            elim_suciedad = self.random.choice(sucio)\n",
        "\n",
        "            self.model.grid._remove_agent(self.pos, elim_suciedad)\n",
        "            self.model.schedule.remove(elim_suciedad)\n",
        "\n",
        "class LimpiarSuciedad(Model):\n",
        "    def __init__(self, width, height, suciedad_inicial, aspiradora_inicial):\n",
        "        self.suciedad_inicial = suciedad_inicial\n",
        "        self.aspiradora_inicial = aspiradora_inicial\n",
        "        self.grid = MultiGrid(width, height, True)\n",
        "        self.schedule = SimultaneousActivation(self)\n",
        "\n",
        "        #Crear suciedad\n",
        "        for i in range(self.suciedad_inicial):\n",
        "            x = self.random.randrange(width)\n",
        "            y = self.random.randrange(height)\n",
        "            suciedad = Suciedad((x,y),self)\n",
        "            self.grid.place_agent(suciedad,(x,y))\n",
        "            self.schedule.add(suciedad)\n",
        "\n",
        "        #crear aspiradora\n",
        "        for i in range(self.aspiradora_inicial):\n",
        "            x = random.randrange(width)\n",
        "            y = random.randrange(height)\n",
        "            aspiradora = Aspiradora((x, y), self)\n",
        "            self.grid.place_agent(aspiradora, (x, y))\n",
        "            self.schedule.add(suciedad)\n",
        "\n",
        "        self.datacollector = DataCollector(model_reporters={\"Grid\":get_grid})\n",
        "    \n",
        "    def step(self):\n",
        "        '''\n",
        "        Guardamos la informacion para luego graficarla\n",
        "        '''\n",
        "        self.datacollector.collect(self)\n",
        "        self.schedule.step()\n"
      ]
    },
    {
      "source": [
        "## Tiempo de ejecucion"
      ],
      "cell_type": "markdown",
      "metadata": {}
    },
    {
      "cell_type": "code",
      "execution_count": 4,
      "metadata": {},
      "outputs": [
        {
          "output_type": "error",
          "ename": "Exception",
          "evalue": "Agent with unique id 5 already added to scheduler",
          "traceback": [
            "\u001b[1;31m---------------------------------------------------------------------------\u001b[0m",
            "\u001b[1;31mException\u001b[0m                                 Traceback (most recent call last)",
            "\u001b[1;32m~\\AppData\\Local\\Temp/ipykernel_52736/740939227.py\u001b[0m in \u001b[0;36m<module>\u001b[1;34m\u001b[0m\n\u001b[0;32m      1\u001b[0m \u001b[0mMax_Time\u001b[0m \u001b[1;33m=\u001b[0m \u001b[1;36m1\u001b[0m\u001b[1;33m\u001b[0m\u001b[1;33m\u001b[0m\u001b[0m\n\u001b[0;32m      2\u001b[0m \u001b[0mtiempo_init\u001b[0m \u001b[1;33m=\u001b[0m \u001b[0mstr\u001b[0m\u001b[1;33m(\u001b[0m\u001b[0mdatetime\u001b[0m\u001b[1;33m.\u001b[0m\u001b[0mtimedelta\u001b[0m\u001b[1;33m(\u001b[0m\u001b[0mseconds\u001b[0m\u001b[1;33m=\u001b[0m\u001b[0mMax_Time\u001b[0m\u001b[1;33m)\u001b[0m\u001b[1;33m)\u001b[0m\u001b[1;33m\u001b[0m\u001b[1;33m\u001b[0m\u001b[0m\n\u001b[1;32m----> 3\u001b[1;33m \u001b[0mmodel\u001b[0m \u001b[1;33m=\u001b[0m \u001b[0mLimpiarSuciedad\u001b[0m\u001b[1;33m(\u001b[0m\u001b[1;36m10\u001b[0m\u001b[1;33m,\u001b[0m\u001b[1;36m10\u001b[0m\u001b[1;33m,\u001b[0m\u001b[1;36m6\u001b[0m\u001b[1;33m,\u001b[0m\u001b[1;36m1\u001b[0m\u001b[1;33m)\u001b[0m\u001b[1;33m\u001b[0m\u001b[1;33m\u001b[0m\u001b[0m\n\u001b[0m\u001b[0;32m      4\u001b[0m \u001b[1;32mwhile\u001b[0m\u001b[1;33m(\u001b[0m\u001b[1;33m(\u001b[0m\u001b[0mtime\u001b[0m\u001b[1;33m.\u001b[0m\u001b[0mtime\u001b[0m\u001b[1;33m(\u001b[0m\u001b[1;33m)\u001b[0m\u001b[1;33m-\u001b[0m\u001b[0mstart_time\u001b[0m\u001b[1;33m)\u001b[0m \u001b[1;33m<\u001b[0m \u001b[0mMax_Time\u001b[0m\u001b[1;33m)\u001b[0m\u001b[1;33m:\u001b[0m\u001b[1;33m\u001b[0m\u001b[1;33m\u001b[0m\u001b[0m\n\u001b[0;32m      5\u001b[0m     \u001b[0mmodel\u001b[0m\u001b[1;33m.\u001b[0m\u001b[0mstep\u001b[0m\u001b[1;33m(\u001b[0m\u001b[1;33m)\u001b[0m\u001b[1;33m\u001b[0m\u001b[1;33m\u001b[0m\u001b[0m\n",
            "\u001b[1;32m~\\AppData\\Local\\Temp/ipykernel_52736/546460481.py\u001b[0m in \u001b[0;36m__init__\u001b[1;34m(self, width, height, suciedad_inicial, aspiradora_inicial)\u001b[0m\n\u001b[0;32m     82\u001b[0m             \u001b[0maspiradora\u001b[0m \u001b[1;33m=\u001b[0m \u001b[0mAspiradora\u001b[0m\u001b[1;33m(\u001b[0m\u001b[1;33m(\u001b[0m\u001b[0mx\u001b[0m\u001b[1;33m,\u001b[0m \u001b[0my\u001b[0m\u001b[1;33m)\u001b[0m\u001b[1;33m,\u001b[0m \u001b[0mself\u001b[0m\u001b[1;33m)\u001b[0m\u001b[1;33m\u001b[0m\u001b[1;33m\u001b[0m\u001b[0m\n\u001b[0;32m     83\u001b[0m             \u001b[0mself\u001b[0m\u001b[1;33m.\u001b[0m\u001b[0mgrid\u001b[0m\u001b[1;33m.\u001b[0m\u001b[0mplace_agent\u001b[0m\u001b[1;33m(\u001b[0m\u001b[0maspiradora\u001b[0m\u001b[1;33m,\u001b[0m \u001b[1;33m(\u001b[0m\u001b[0mx\u001b[0m\u001b[1;33m,\u001b[0m \u001b[0my\u001b[0m\u001b[1;33m)\u001b[0m\u001b[1;33m)\u001b[0m\u001b[1;33m\u001b[0m\u001b[1;33m\u001b[0m\u001b[0m\n\u001b[1;32m---> 84\u001b[1;33m             \u001b[0mself\u001b[0m\u001b[1;33m.\u001b[0m\u001b[0mschedule\u001b[0m\u001b[1;33m.\u001b[0m\u001b[0madd\u001b[0m\u001b[1;33m(\u001b[0m\u001b[0msuciedad\u001b[0m\u001b[1;33m)\u001b[0m\u001b[1;33m\u001b[0m\u001b[1;33m\u001b[0m\u001b[0m\n\u001b[0m\u001b[0;32m     85\u001b[0m \u001b[1;33m\u001b[0m\u001b[0m\n\u001b[0;32m     86\u001b[0m         \u001b[0mself\u001b[0m\u001b[1;33m.\u001b[0m\u001b[0mdatacollector\u001b[0m \u001b[1;33m=\u001b[0m \u001b[0mDataCollector\u001b[0m\u001b[1;33m(\u001b[0m\u001b[0mmodel_reporters\u001b[0m\u001b[1;33m=\u001b[0m\u001b[1;33m{\u001b[0m\u001b[1;34m\"Grid\"\u001b[0m\u001b[1;33m:\u001b[0m\u001b[0mget_grid\u001b[0m\u001b[1;33m}\u001b[0m\u001b[1;33m)\u001b[0m\u001b[1;33m\u001b[0m\u001b[1;33m\u001b[0m\u001b[0m\n",
            "\u001b[1;32m~\\AppData\\Local\\Programs\\Python\\Python39\\lib\\site-packages\\mesa\\time.py\u001b[0m in \u001b[0;36madd\u001b[1;34m(self, agent)\u001b[0m\n\u001b[0;32m     62\u001b[0m \u001b[1;33m\u001b[0m\u001b[0m\n\u001b[0;32m     63\u001b[0m         \u001b[1;32mif\u001b[0m \u001b[0magent\u001b[0m\u001b[1;33m.\u001b[0m\u001b[0munique_id\u001b[0m \u001b[1;32min\u001b[0m \u001b[0mself\u001b[0m\u001b[1;33m.\u001b[0m\u001b[0m_agents\u001b[0m\u001b[1;33m:\u001b[0m\u001b[1;33m\u001b[0m\u001b[1;33m\u001b[0m\u001b[0m\n\u001b[1;32m---> 64\u001b[1;33m             raise Exception(\n\u001b[0m\u001b[0;32m     65\u001b[0m                 \"Agent with unique id {0} already added to scheduler\".format(\n\u001b[0;32m     66\u001b[0m                     \u001b[0mrepr\u001b[0m\u001b[1;33m(\u001b[0m\u001b[0magent\u001b[0m\u001b[1;33m.\u001b[0m\u001b[0munique_id\u001b[0m\u001b[1;33m)\u001b[0m\u001b[1;33m\u001b[0m\u001b[1;33m\u001b[0m\u001b[0m\n",
            "\u001b[1;31mException\u001b[0m: Agent with unique id 5 already added to scheduler"
          ]
        }
      ],
      "source": [
        "Max_Time = 1\n",
        "tiempo_init = str(datetime.timedelta(seconds=Max_Time))\n",
        "model = LimpiarSuciedad(10,10,6,1)\n",
        "while((time.time()-start_time) < Max_Time):\n",
        "    model.step()\n",
        "\n",
        "print('Tiempo de ejecución:', str(datetime.timedelta(seconds=(time.time() - start_time))))"
      ]
    },
    {
      "source": [
        "## Graficar"
      ],
      "cell_type": "markdown",
      "metadata": {}
    },
    {
      "source": [
        "## Crear Modelo"
      ],
      "cell_type": "markdown",
      "metadata": {}
    }
  ]
}